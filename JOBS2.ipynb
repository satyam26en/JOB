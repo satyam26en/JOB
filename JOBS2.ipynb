{
  "nbformat": 4,
  "nbformat_minor": 0,
  "metadata": {
    "colab": {
      "provenance": [],
      "include_colab_link": true
    },
    "kernelspec": {
      "name": "python3",
      "display_name": "Python 3"
    },
    "language_info": {
      "name": "python"
    }
  },
  "cells": [
    {
      "cell_type": "markdown",
      "metadata": {
        "id": "view-in-github",
        "colab_type": "text"
      },
      "source": [
        "<a href=\"https://colab.research.google.com/github/satyam26en/JOB/blob/main/JOBS2.ipynb\" target=\"_parent\"><img src=\"https://colab.research.google.com/assets/colab-badge.svg\" alt=\"Open In Colab\"/></a>"
      ]
    },
    {
      "cell_type": "markdown",
      "source": [
        "# **1. Import Libraries and Download the Dataset**"
      ],
      "metadata": {
        "id": "2OwRQzblXO15"
      }
    },
    {
      "cell_type": "code",
      "source": [
        "import pandas as pd\n",
        "import requests\n",
        "import re\n",
        "from io import BytesIO\n",
        "from zipfile import ZipFile\n",
        "from urllib.parse import urlparse\n",
        "\n",
        "# URL to the GitHub file\n",
        "url = 'https://github.com/satyam26en/JOB/blob/main/jobs.zip?raw=true'\n",
        "\n",
        "# Send a GET request to the URL\n",
        "response = requests.get(url)\n",
        "\n",
        "# Ensure the request was successful\n",
        "if response.status_code == 200:\n",
        "    # Load the content of the response into a BytesIO object\n",
        "    zip_file = BytesIO(response.content)\n",
        "\n",
        "    # Extract the content of the zip file\n",
        "    with ZipFile(zip_file) as z:\n",
        "        # List the files in the zip\n",
        "        print(z.namelist())\n",
        "\n",
        "        # Load the CSV file into a DataFrame (assuming there's a single CSV file in the zip)\n",
        "        with z.open('jobs.csv') as f:\n",
        "            jobs_df = pd.read_csv(f)\n",
        "else:\n",
        "    print(f\"Failed to download file: {response.status_code}\")\n",
        "\n",
        "# Display the first few rows of the DataFrame\n",
        "jobs_df.head()\n"
      ],
      "metadata": {
        "colab": {
          "base_uri": "https://localhost:8080/",
          "height": 0
        },
        "id": "XwTtVw7cZngp",
        "outputId": "8f2f757c-f6c9-4b5b-a6dc-ac226e287c40"
      },
      "execution_count": 6,
      "outputs": [
        {
          "output_type": "stream",
          "name": "stdout",
          "text": [
            "['jobs.csv']\n"
          ]
        },
        {
          "output_type": "execute_result",
          "data": {
            "text/plain": [
              "         job_id                                           job_role    company  \\\n",
              "0  7.012301e+10      Branch Banking - Calling For Women Candidates  Hdfc Bank   \n",
              "1  6.012391e+10                       Product Owner Senior Manager  Accenture   \n",
              "2  6.012391e+10  Employee Relations and Policies Associate Manager  Accenture   \n",
              "3  6.012391e+10         Employee Relations and Policies Specialist  Accenture   \n",
              "4  6.012301e+10                                  SAP BO Consultant   Mindtree   \n",
              "\n",
              "  experience         salary  \\\n",
              "0    1-6 Yrs  Not disclosed   \n",
              "1  11-15 Yrs  Not disclosed   \n",
              "2    3-7 Yrs  Not disclosed   \n",
              "3    3-7 Yrs  Not disclosed   \n",
              "4    5-7 Yrs  Not disclosed   \n",
              "\n",
              "                                            location  rating        reviews  \\\n",
              "0  Kolkata, Hyderabad/Secunderabad, Pune, Ahmedab...     4.0  39110 Reviews   \n",
              "1  Kolkata, Mumbai, Hyderabad/Secunderabad, Pune,...     4.1  32129 Reviews   \n",
              "2  Kolkata, Mumbai, Hyderabad/Secunderabad, Pune,...     4.1  32129 Reviews   \n",
              "3  Kolkata, Mumbai, Hyderabad/Secunderabad, Pune,...     4.1  32129 Reviews   \n",
              "4  Hybrid - Kolkata, Hyderabad/Secunderabad, Pune...     4.1   3759 Reviews   \n",
              "\n",
              "                                     resposibilities  posted_on  \\\n",
              "0     Customer Service,Sales,Relationship Management  1 Day Ago   \n",
              "1  Product management,Market analysis,Change mana...  1 Day Ago   \n",
              "2  Business process,Change management,Team manage...  1 Day Ago   \n",
              "3  Business process,Change management,Team manage...  1 Day Ago   \n",
              "4  SAP BO,PL / SQL,Oracle SQL,SAP Business Object...  1 Day Ago   \n",
              "\n",
              "                                            job_link  \\\n",
              "0  https://www.naukri.com/job-listings-branch-ban...   \n",
              "1  https://www.naukri.com/job-listings-product-ow...   \n",
              "2  https://www.naukri.com/job-listings-employee-r...   \n",
              "3  https://www.naukri.com/job-listings-employee-r...   \n",
              "4  https://www.naukri.com/job-listings-sap-bo-con...   \n",
              "\n",
              "                                        company_link  \n",
              "0  https://www.naukri.com/hdfc-bank-jobs-careers-213  \n",
              "1  https://www.naukri.com/accenture-jobs-careers-...  \n",
              "2  https://www.naukri.com/accenture-jobs-careers-...  \n",
              "3  https://www.naukri.com/accenture-jobs-careers-...  \n",
              "4  https://www.naukri.com/mindtree-jobs-careers-3...  "
            ],
            "text/html": [
              "\n",
              "  <div id=\"df-b9d2d283-66e0-4881-b3ec-c622fd530cfc\" class=\"colab-df-container\">\n",
              "    <div>\n",
              "<style scoped>\n",
              "    .dataframe tbody tr th:only-of-type {\n",
              "        vertical-align: middle;\n",
              "    }\n",
              "\n",
              "    .dataframe tbody tr th {\n",
              "        vertical-align: top;\n",
              "    }\n",
              "\n",
              "    .dataframe thead th {\n",
              "        text-align: right;\n",
              "    }\n",
              "</style>\n",
              "<table border=\"1\" class=\"dataframe\">\n",
              "  <thead>\n",
              "    <tr style=\"text-align: right;\">\n",
              "      <th></th>\n",
              "      <th>job_id</th>\n",
              "      <th>job_role</th>\n",
              "      <th>company</th>\n",
              "      <th>experience</th>\n",
              "      <th>salary</th>\n",
              "      <th>location</th>\n",
              "      <th>rating</th>\n",
              "      <th>reviews</th>\n",
              "      <th>resposibilities</th>\n",
              "      <th>posted_on</th>\n",
              "      <th>job_link</th>\n",
              "      <th>company_link</th>\n",
              "    </tr>\n",
              "  </thead>\n",
              "  <tbody>\n",
              "    <tr>\n",
              "      <th>0</th>\n",
              "      <td>7.012301e+10</td>\n",
              "      <td>Branch Banking - Calling For Women Candidates</td>\n",
              "      <td>Hdfc Bank</td>\n",
              "      <td>1-6 Yrs</td>\n",
              "      <td>Not disclosed</td>\n",
              "      <td>Kolkata, Hyderabad/Secunderabad, Pune, Ahmedab...</td>\n",
              "      <td>4.0</td>\n",
              "      <td>39110 Reviews</td>\n",
              "      <td>Customer Service,Sales,Relationship Management</td>\n",
              "      <td>1 Day Ago</td>\n",
              "      <td>https://www.naukri.com/job-listings-branch-ban...</td>\n",
              "      <td>https://www.naukri.com/hdfc-bank-jobs-careers-213</td>\n",
              "    </tr>\n",
              "    <tr>\n",
              "      <th>1</th>\n",
              "      <td>6.012391e+10</td>\n",
              "      <td>Product Owner Senior Manager</td>\n",
              "      <td>Accenture</td>\n",
              "      <td>11-15 Yrs</td>\n",
              "      <td>Not disclosed</td>\n",
              "      <td>Kolkata, Mumbai, Hyderabad/Secunderabad, Pune,...</td>\n",
              "      <td>4.1</td>\n",
              "      <td>32129 Reviews</td>\n",
              "      <td>Product management,Market analysis,Change mana...</td>\n",
              "      <td>1 Day Ago</td>\n",
              "      <td>https://www.naukri.com/job-listings-product-ow...</td>\n",
              "      <td>https://www.naukri.com/accenture-jobs-careers-...</td>\n",
              "    </tr>\n",
              "    <tr>\n",
              "      <th>2</th>\n",
              "      <td>6.012391e+10</td>\n",
              "      <td>Employee Relations and Policies Associate Manager</td>\n",
              "      <td>Accenture</td>\n",
              "      <td>3-7 Yrs</td>\n",
              "      <td>Not disclosed</td>\n",
              "      <td>Kolkata, Mumbai, Hyderabad/Secunderabad, Pune,...</td>\n",
              "      <td>4.1</td>\n",
              "      <td>32129 Reviews</td>\n",
              "      <td>Business process,Change management,Team manage...</td>\n",
              "      <td>1 Day Ago</td>\n",
              "      <td>https://www.naukri.com/job-listings-employee-r...</td>\n",
              "      <td>https://www.naukri.com/accenture-jobs-careers-...</td>\n",
              "    </tr>\n",
              "    <tr>\n",
              "      <th>3</th>\n",
              "      <td>6.012391e+10</td>\n",
              "      <td>Employee Relations and Policies Specialist</td>\n",
              "      <td>Accenture</td>\n",
              "      <td>3-7 Yrs</td>\n",
              "      <td>Not disclosed</td>\n",
              "      <td>Kolkata, Mumbai, Hyderabad/Secunderabad, Pune,...</td>\n",
              "      <td>4.1</td>\n",
              "      <td>32129 Reviews</td>\n",
              "      <td>Business process,Change management,Team manage...</td>\n",
              "      <td>1 Day Ago</td>\n",
              "      <td>https://www.naukri.com/job-listings-employee-r...</td>\n",
              "      <td>https://www.naukri.com/accenture-jobs-careers-...</td>\n",
              "    </tr>\n",
              "    <tr>\n",
              "      <th>4</th>\n",
              "      <td>6.012301e+10</td>\n",
              "      <td>SAP BO Consultant</td>\n",
              "      <td>Mindtree</td>\n",
              "      <td>5-7 Yrs</td>\n",
              "      <td>Not disclosed</td>\n",
              "      <td>Hybrid - Kolkata, Hyderabad/Secunderabad, Pune...</td>\n",
              "      <td>4.1</td>\n",
              "      <td>3759 Reviews</td>\n",
              "      <td>SAP BO,PL / SQL,Oracle SQL,SAP Business Object...</td>\n",
              "      <td>1 Day Ago</td>\n",
              "      <td>https://www.naukri.com/job-listings-sap-bo-con...</td>\n",
              "      <td>https://www.naukri.com/mindtree-jobs-careers-3...</td>\n",
              "    </tr>\n",
              "  </tbody>\n",
              "</table>\n",
              "</div>\n",
              "    <div class=\"colab-df-buttons\">\n",
              "\n",
              "  <div class=\"colab-df-container\">\n",
              "    <button class=\"colab-df-convert\" onclick=\"convertToInteractive('df-b9d2d283-66e0-4881-b3ec-c622fd530cfc')\"\n",
              "            title=\"Convert this dataframe to an interactive table.\"\n",
              "            style=\"display:none;\">\n",
              "\n",
              "  <svg xmlns=\"http://www.w3.org/2000/svg\" height=\"24px\" viewBox=\"0 -960 960 960\">\n",
              "    <path d=\"M120-120v-720h720v720H120Zm60-500h600v-160H180v160Zm220 220h160v-160H400v160Zm0 220h160v-160H400v160ZM180-400h160v-160H180v160Zm440 0h160v-160H620v160ZM180-180h160v-160H180v160Zm440 0h160v-160H620v160Z\"/>\n",
              "  </svg>\n",
              "    </button>\n",
              "\n",
              "  <style>\n",
              "    .colab-df-container {\n",
              "      display:flex;\n",
              "      gap: 12px;\n",
              "    }\n",
              "\n",
              "    .colab-df-convert {\n",
              "      background-color: #E8F0FE;\n",
              "      border: none;\n",
              "      border-radius: 50%;\n",
              "      cursor: pointer;\n",
              "      display: none;\n",
              "      fill: #1967D2;\n",
              "      height: 32px;\n",
              "      padding: 0 0 0 0;\n",
              "      width: 32px;\n",
              "    }\n",
              "\n",
              "    .colab-df-convert:hover {\n",
              "      background-color: #E2EBFA;\n",
              "      box-shadow: 0px 1px 2px rgba(60, 64, 67, 0.3), 0px 1px 3px 1px rgba(60, 64, 67, 0.15);\n",
              "      fill: #174EA6;\n",
              "    }\n",
              "\n",
              "    .colab-df-buttons div {\n",
              "      margin-bottom: 4px;\n",
              "    }\n",
              "\n",
              "    [theme=dark] .colab-df-convert {\n",
              "      background-color: #3B4455;\n",
              "      fill: #D2E3FC;\n",
              "    }\n",
              "\n",
              "    [theme=dark] .colab-df-convert:hover {\n",
              "      background-color: #434B5C;\n",
              "      box-shadow: 0px 1px 3px 1px rgba(0, 0, 0, 0.15);\n",
              "      filter: drop-shadow(0px 1px 2px rgba(0, 0, 0, 0.3));\n",
              "      fill: #FFFFFF;\n",
              "    }\n",
              "  </style>\n",
              "\n",
              "    <script>\n",
              "      const buttonEl =\n",
              "        document.querySelector('#df-b9d2d283-66e0-4881-b3ec-c622fd530cfc button.colab-df-convert');\n",
              "      buttonEl.style.display =\n",
              "        google.colab.kernel.accessAllowed ? 'block' : 'none';\n",
              "\n",
              "      async function convertToInteractive(key) {\n",
              "        const element = document.querySelector('#df-b9d2d283-66e0-4881-b3ec-c622fd530cfc');\n",
              "        const dataTable =\n",
              "          await google.colab.kernel.invokeFunction('convertToInteractive',\n",
              "                                                    [key], {});\n",
              "        if (!dataTable) return;\n",
              "\n",
              "        const docLinkHtml = 'Like what you see? Visit the ' +\n",
              "          '<a target=\"_blank\" href=https://colab.research.google.com/notebooks/data_table.ipynb>data table notebook</a>'\n",
              "          + ' to learn more about interactive tables.';\n",
              "        element.innerHTML = '';\n",
              "        dataTable['output_type'] = 'display_data';\n",
              "        await google.colab.output.renderOutput(dataTable, element);\n",
              "        const docLink = document.createElement('div');\n",
              "        docLink.innerHTML = docLinkHtml;\n",
              "        element.appendChild(docLink);\n",
              "      }\n",
              "    </script>\n",
              "  </div>\n",
              "\n",
              "\n",
              "<div id=\"df-c5aac934-0262-410a-9f72-9f7e4c1f2e65\">\n",
              "  <button class=\"colab-df-quickchart\" onclick=\"quickchart('df-c5aac934-0262-410a-9f72-9f7e4c1f2e65')\"\n",
              "            title=\"Suggest charts\"\n",
              "            style=\"display:none;\">\n",
              "\n",
              "<svg xmlns=\"http://www.w3.org/2000/svg\" height=\"24px\"viewBox=\"0 0 24 24\"\n",
              "     width=\"24px\">\n",
              "    <g>\n",
              "        <path d=\"M19 3H5c-1.1 0-2 .9-2 2v14c0 1.1.9 2 2 2h14c1.1 0 2-.9 2-2V5c0-1.1-.9-2-2-2zM9 17H7v-7h2v7zm4 0h-2V7h2v10zm4 0h-2v-4h2v4z\"/>\n",
              "    </g>\n",
              "</svg>\n",
              "  </button>\n",
              "\n",
              "<style>\n",
              "  .colab-df-quickchart {\n",
              "      --bg-color: #E8F0FE;\n",
              "      --fill-color: #1967D2;\n",
              "      --hover-bg-color: #E2EBFA;\n",
              "      --hover-fill-color: #174EA6;\n",
              "      --disabled-fill-color: #AAA;\n",
              "      --disabled-bg-color: #DDD;\n",
              "  }\n",
              "\n",
              "  [theme=dark] .colab-df-quickchart {\n",
              "      --bg-color: #3B4455;\n",
              "      --fill-color: #D2E3FC;\n",
              "      --hover-bg-color: #434B5C;\n",
              "      --hover-fill-color: #FFFFFF;\n",
              "      --disabled-bg-color: #3B4455;\n",
              "      --disabled-fill-color: #666;\n",
              "  }\n",
              "\n",
              "  .colab-df-quickchart {\n",
              "    background-color: var(--bg-color);\n",
              "    border: none;\n",
              "    border-radius: 50%;\n",
              "    cursor: pointer;\n",
              "    display: none;\n",
              "    fill: var(--fill-color);\n",
              "    height: 32px;\n",
              "    padding: 0;\n",
              "    width: 32px;\n",
              "  }\n",
              "\n",
              "  .colab-df-quickchart:hover {\n",
              "    background-color: var(--hover-bg-color);\n",
              "    box-shadow: 0 1px 2px rgba(60, 64, 67, 0.3), 0 1px 3px 1px rgba(60, 64, 67, 0.15);\n",
              "    fill: var(--button-hover-fill-color);\n",
              "  }\n",
              "\n",
              "  .colab-df-quickchart-complete:disabled,\n",
              "  .colab-df-quickchart-complete:disabled:hover {\n",
              "    background-color: var(--disabled-bg-color);\n",
              "    fill: var(--disabled-fill-color);\n",
              "    box-shadow: none;\n",
              "  }\n",
              "\n",
              "  .colab-df-spinner {\n",
              "    border: 2px solid var(--fill-color);\n",
              "    border-color: transparent;\n",
              "    border-bottom-color: var(--fill-color);\n",
              "    animation:\n",
              "      spin 1s steps(1) infinite;\n",
              "  }\n",
              "\n",
              "  @keyframes spin {\n",
              "    0% {\n",
              "      border-color: transparent;\n",
              "      border-bottom-color: var(--fill-color);\n",
              "      border-left-color: var(--fill-color);\n",
              "    }\n",
              "    20% {\n",
              "      border-color: transparent;\n",
              "      border-left-color: var(--fill-color);\n",
              "      border-top-color: var(--fill-color);\n",
              "    }\n",
              "    30% {\n",
              "      border-color: transparent;\n",
              "      border-left-color: var(--fill-color);\n",
              "      border-top-color: var(--fill-color);\n",
              "      border-right-color: var(--fill-color);\n",
              "    }\n",
              "    40% {\n",
              "      border-color: transparent;\n",
              "      border-right-color: var(--fill-color);\n",
              "      border-top-color: var(--fill-color);\n",
              "    }\n",
              "    60% {\n",
              "      border-color: transparent;\n",
              "      border-right-color: var(--fill-color);\n",
              "    }\n",
              "    80% {\n",
              "      border-color: transparent;\n",
              "      border-right-color: var(--fill-color);\n",
              "      border-bottom-color: var(--fill-color);\n",
              "    }\n",
              "    90% {\n",
              "      border-color: transparent;\n",
              "      border-bottom-color: var(--fill-color);\n",
              "    }\n",
              "  }\n",
              "</style>\n",
              "\n",
              "  <script>\n",
              "    async function quickchart(key) {\n",
              "      const quickchartButtonEl =\n",
              "        document.querySelector('#' + key + ' button');\n",
              "      quickchartButtonEl.disabled = true;  // To prevent multiple clicks.\n",
              "      quickchartButtonEl.classList.add('colab-df-spinner');\n",
              "      try {\n",
              "        const charts = await google.colab.kernel.invokeFunction(\n",
              "            'suggestCharts', [key], {});\n",
              "      } catch (error) {\n",
              "        console.error('Error during call to suggestCharts:', error);\n",
              "      }\n",
              "      quickchartButtonEl.classList.remove('colab-df-spinner');\n",
              "      quickchartButtonEl.classList.add('colab-df-quickchart-complete');\n",
              "    }\n",
              "    (() => {\n",
              "      let quickchartButtonEl =\n",
              "        document.querySelector('#df-c5aac934-0262-410a-9f72-9f7e4c1f2e65 button');\n",
              "      quickchartButtonEl.style.display =\n",
              "        google.colab.kernel.accessAllowed ? 'block' : 'none';\n",
              "    })();\n",
              "  </script>\n",
              "</div>\n",
              "\n",
              "    </div>\n",
              "  </div>\n"
            ],
            "application/vnd.google.colaboratory.intrinsic+json": {
              "type": "dataframe",
              "variable_name": "jobs_df",
              "summary": "{\n  \"name\": \"jobs_df\",\n  \"rows\": 79147,\n  \"fields\": [\n    {\n      \"column\": \"job_id\",\n      \"properties\": {\n        \"dtype\": \"number\",\n        \"std\": 109746366353.32233,\n        \"min\": 10122000503.0,\n        \"max\": 311222904900.0,\n        \"num_unique_values\": 73009,\n        \"samples\": [\n          20123000806.0,\n          291222007132.0,\n          70123500585.0\n        ],\n        \"semantic_type\": \"\",\n        \"description\": \"\"\n      }\n    },\n    {\n      \"column\": \"job_role\",\n      \"properties\": {\n        \"dtype\": \"string\",\n        \"num_unique_values\": 51050,\n        \"samples\": [\n          \"Web Administrator\",\n          \"Audio framework Engineer\",\n          \"TEKsystems #Hiring # SAP SD Consultant\"\n        ],\n        \"semantic_type\": \"\",\n        \"description\": \"\"\n      }\n    },\n    {\n      \"column\": \"company\",\n      \"properties\": {\n        \"dtype\": \"category\",\n        \"num_unique_values\": 15313,\n        \"samples\": [\n          \"Transglobe Iskcon India\",\n          \"Vrecroot\",\n          \"Leaptest\"\n        ],\n        \"semantic_type\": \"\",\n        \"description\": \"\"\n      }\n    },\n    {\n      \"column\": \"experience\",\n      \"properties\": {\n        \"dtype\": \"category\",\n        \"num_unique_values\": 231,\n        \"samples\": [\n          \"16-19 Yrs\",\n          \"10-12 Yrs\",\n          \"3-8 Yrs\"\n        ],\n        \"semantic_type\": \"\",\n        \"description\": \"\"\n      }\n    },\n    {\n      \"column\": \"salary\",\n      \"properties\": {\n        \"dtype\": \"category\",\n        \"num_unique_values\": 813,\n        \"samples\": [\n          \"14,00,000 - 22,50,000 PA.\",\n          \"55,00,000 - 65,00,000 PA.\",\n          \"2,00,000 - 4,75,000 PA.\"\n        ],\n        \"semantic_type\": \"\",\n        \"description\": \"\"\n      }\n    },\n    {\n      \"column\": \"location\",\n      \"properties\": {\n        \"dtype\": \"category\",\n        \"num_unique_values\": 9038,\n        \"samples\": [\n          \"Temp. WFH - Chennai\",\n          \"Vapi, Dadra & Nagar Haveli/Silvassa\",\n          \"New Delhi(Safdarjung Enclave), Delhi / NCR\"\n        ],\n        \"semantic_type\": \"\",\n        \"description\": \"\"\n      }\n    },\n    {\n      \"column\": \"rating\",\n      \"properties\": {\n        \"dtype\": \"number\",\n        \"std\": 0.5192110664984727,\n        \"min\": 1.0,\n        \"max\": 5.0,\n        \"num_unique_values\": 41,\n        \"samples\": [\n          2.2,\n          3.4,\n          4.4\n        ],\n        \"semantic_type\": \"\",\n        \"description\": \"\"\n      }\n    },\n    {\n      \"column\": \"reviews\",\n      \"properties\": {\n        \"dtype\": \"category\",\n        \"num_unique_values\": 980,\n        \"samples\": [\n          \"942 Reviews\",\n          \"867 Reviews\",\n          \"28172 Reviews\"\n        ],\n        \"semantic_type\": \"\",\n        \"description\": \"\"\n      }\n    },\n    {\n      \"column\": \"resposibilities\",\n      \"properties\": {\n        \"dtype\": \"string\",\n        \"num_unique_values\": 61911,\n        \"samples\": [\n          \".net core,aws,React.Js\",\n          \"Test Engineering,JIRA,Confluence,Analytical,JCL,SDLC,Communication,LMS\",\n          \"Team Management,Reporting,Presentation,account management,Market Research,Business Strategy,Swot Analysis,research\"\n        ],\n        \"semantic_type\": \"\",\n        \"description\": \"\"\n      }\n    },\n    {\n      \"column\": \"posted_on\",\n      \"properties\": {\n        \"dtype\": \"category\",\n        \"num_unique_values\": 26,\n        \"samples\": [\n          \"6 Days Ago\",\n          \"Just Now\",\n          \"1 Day Ago\"\n        ],\n        \"semantic_type\": \"\",\n        \"description\": \"\"\n      }\n    },\n    {\n      \"column\": \"job_link\",\n      \"properties\": {\n        \"dtype\": \"string\",\n        \"num_unique_values\": 73009,\n        \"samples\": [\n          \"https://www.naukri.com/job-listings-medical-coding-for-18-22-passout-microbiology-zoology-adv-zoo-grad-alpha-medical-coding-solutions-pondicherry-puducherry-chennai-tiruchirapalli-trichy-0-to-4-years-020123000806\",\n          \"https://www.naukri.com/job-listings-admission-counsellor-atz-properties-bangalore-bengaluru-1-to-3-years-291222007132\",\n          \"https://www.naukri.com/job-listings-hygiene-care-consultant-sr-hygiene-care-consultant-skillety-noida-kochi-cochin-kolkata-mumbai-chandigarh-hyderabad-secunderabad-pune-chennai-ahmedabad-bangalore-bengaluru-2-to-7-years-070123500585\"\n        ],\n        \"semantic_type\": \"\",\n        \"description\": \"\"\n      }\n    },\n    {\n      \"column\": \"company_link\",\n      \"properties\": {\n        \"dtype\": \"category\",\n        \"num_unique_values\": 13845,\n        \"samples\": [\n          \"https://www.naukri.com/modify-digital-jobs-careers-3717488\",\n          \"https://www.naukri.com/fg-glass-jobs-careers-4624134\",\n          \"https://www.naukri.com/n-solutions-jobs-careers-594659\"\n        ],\n        \"semantic_type\": \"\",\n        \"description\": \"\"\n      }\n    }\n  ]\n}"
            }
          },
          "metadata": {},
          "execution_count": 6
        }
      ]
    },
    {
      "cell_type": "markdown",
      "source": [
        "# **2. Initial Examination**"
      ],
      "metadata": {
        "id": "1bS7PUi7XXv4"
      }
    },
    {
      "cell_type": "code",
      "source": [
        "# Display the first few rows of the dataset\n",
        "print(\"First few rows of the dataset:\")\n",
        "print(jobs_df.head())"
      ],
      "metadata": {
        "id": "cZXVl8bgi3bd",
        "colab": {
          "base_uri": "https://localhost:8080/"
        },
        "outputId": "ddd49664-aa4b-4abb-be6e-d5ece8ff1056"
      },
      "execution_count": 7,
      "outputs": [
        {
          "output_type": "stream",
          "name": "stdout",
          "text": [
            "First few rows of the dataset:\n",
            "         job_id                                           job_role    company  \\\n",
            "0  7.012301e+10      Branch Banking - Calling For Women Candidates  Hdfc Bank   \n",
            "1  6.012391e+10                       Product Owner Senior Manager  Accenture   \n",
            "2  6.012391e+10  Employee Relations and Policies Associate Manager  Accenture   \n",
            "3  6.012391e+10         Employee Relations and Policies Specialist  Accenture   \n",
            "4  6.012301e+10                                  SAP BO Consultant   Mindtree   \n",
            "\n",
            "  experience         salary  \\\n",
            "0    1-6 Yrs  Not disclosed   \n",
            "1  11-15 Yrs  Not disclosed   \n",
            "2    3-7 Yrs  Not disclosed   \n",
            "3    3-7 Yrs  Not disclosed   \n",
            "4    5-7 Yrs  Not disclosed   \n",
            "\n",
            "                                            location  rating        reviews  \\\n",
            "0  Kolkata, Hyderabad/Secunderabad, Pune, Ahmedab...     4.0  39110 Reviews   \n",
            "1  Kolkata, Mumbai, Hyderabad/Secunderabad, Pune,...     4.1  32129 Reviews   \n",
            "2  Kolkata, Mumbai, Hyderabad/Secunderabad, Pune,...     4.1  32129 Reviews   \n",
            "3  Kolkata, Mumbai, Hyderabad/Secunderabad, Pune,...     4.1  32129 Reviews   \n",
            "4  Hybrid - Kolkata, Hyderabad/Secunderabad, Pune...     4.1   3759 Reviews   \n",
            "\n",
            "                                     resposibilities  posted_on  \\\n",
            "0     Customer Service,Sales,Relationship Management  1 Day Ago   \n",
            "1  Product management,Market analysis,Change mana...  1 Day Ago   \n",
            "2  Business process,Change management,Team manage...  1 Day Ago   \n",
            "3  Business process,Change management,Team manage...  1 Day Ago   \n",
            "4  SAP BO,PL / SQL,Oracle SQL,SAP Business Object...  1 Day Ago   \n",
            "\n",
            "                                            job_link  \\\n",
            "0  https://www.naukri.com/job-listings-branch-ban...   \n",
            "1  https://www.naukri.com/job-listings-product-ow...   \n",
            "2  https://www.naukri.com/job-listings-employee-r...   \n",
            "3  https://www.naukri.com/job-listings-employee-r...   \n",
            "4  https://www.naukri.com/job-listings-sap-bo-con...   \n",
            "\n",
            "                                        company_link  \n",
            "0  https://www.naukri.com/hdfc-bank-jobs-careers-213  \n",
            "1  https://www.naukri.com/accenture-jobs-careers-...  \n",
            "2  https://www.naukri.com/accenture-jobs-careers-...  \n",
            "3  https://www.naukri.com/accenture-jobs-careers-...  \n",
            "4  https://www.naukri.com/mindtree-jobs-careers-3...  \n"
          ]
        }
      ]
    },
    {
      "cell_type": "code",
      "source": [
        "# Dataset summary\n",
        "print(\"\\nDataset summary:\")\n",
        "print(jobs_df.info())"
      ],
      "metadata": {
        "colab": {
          "base_uri": "https://localhost:8080/"
        },
        "id": "sJmyrD9DZubP",
        "outputId": "1b47bba8-66cf-4f22-a69e-f65a75a32f4d"
      },
      "execution_count": 8,
      "outputs": [
        {
          "output_type": "stream",
          "name": "stdout",
          "text": [
            "\n",
            "Dataset summary:\n",
            "<class 'pandas.core.frame.DataFrame'>\n",
            "RangeIndex: 79147 entries, 0 to 79146\n",
            "Data columns (total 12 columns):\n",
            " #   Column           Non-Null Count  Dtype  \n",
            "---  ------           --------------  -----  \n",
            " 0   job_id           78667 non-null  float64\n",
            " 1   job_role         78667 non-null  object \n",
            " 2   company          78666 non-null  object \n",
            " 3   experience       77398 non-null  object \n",
            " 4   salary           78667 non-null  object \n",
            " 5   location         77441 non-null  object \n",
            " 6   rating           42948 non-null  float64\n",
            " 7   reviews          42948 non-null  object \n",
            " 8   resposibilities  78647 non-null  object \n",
            " 9   posted_on        78667 non-null  object \n",
            " 10  job_link         78667 non-null  object \n",
            " 11  company_link     78667 non-null  object \n",
            "dtypes: float64(2), object(10)\n",
            "memory usage: 7.2+ MB\n",
            "None\n"
          ]
        }
      ]
    },
    {
      "cell_type": "code",
      "source": [
        "# Check for missing values\n",
        "print(\"\\nMissing values in each column:\")\n",
        "print(jobs_df.isnull().sum())"
      ],
      "metadata": {
        "id": "6LXlCDrWi_Nq",
        "colab": {
          "base_uri": "https://localhost:8080/"
        },
        "outputId": "b7adf887-7a0f-4b16-c4da-276cdc96aa99"
      },
      "execution_count": 9,
      "outputs": [
        {
          "output_type": "stream",
          "name": "stdout",
          "text": [
            "\n",
            "Missing values in each column:\n",
            "job_id               480\n",
            "job_role             480\n",
            "company              481\n",
            "experience          1749\n",
            "salary               480\n",
            "location            1706\n",
            "rating             36199\n",
            "reviews            36199\n",
            "resposibilities      500\n",
            "posted_on            480\n",
            "job_link             480\n",
            "company_link         480\n",
            "dtype: int64\n"
          ]
        }
      ]
    },
    {
      "cell_type": "markdown",
      "source": [
        "# **3  Data Cleaning and Preparation**"
      ],
      "metadata": {
        "id": "ZTg0zjj1Xe8m"
      }
    },
    {
      "cell_type": "code",
      "source": [
        "# Correct column name if necessary (e.g., responsibilities might be resposibilities)\n",
        "jobs_df.rename(columns={'resposibilities': 'responsibilities'}, inplace=True)\n",
        "\n",
        "# Handling missing values\n",
        "jobs_df.dropna(subset=['job_role', 'company', 'posted_on', 'job_link', 'company_link'], inplace=True)\n",
        "jobs_df['experience'].fillna('Not specified', inplace=True)\n",
        "jobs_df['location'].fillna('Unknown', inplace=True)\n",
        "jobs_df['rating'] = pd.to_numeric(jobs_df['rating'], errors='coerce')\n",
        "\n",
        "# Convert reviews to string first\n",
        "jobs_df['reviews'] = jobs_df['reviews'].astype(str).str.replace(' Reviews', '').astype(float, errors='ignore')\n",
        "\n",
        "median_rating = jobs_df['rating'].median()\n",
        "median_reviews = jobs_df['reviews'].median()\n",
        "jobs_df['rating'].fillna(median_rating, inplace=True)\n",
        "jobs_df['reviews'].fillna(median_reviews, inplace=True)\n",
        "jobs_df['responsibilities'].fillna('Not specified', inplace=True)\n",
        "\n",
        "# Correcting data types\n",
        "jobs_df['job_id'] = jobs_df['job_id'].astype(str)\n",
        "jobs_df['experience'] = jobs_df['experience'].str.strip()\n",
        "jobs_df['salary'] = jobs_df['salary'].str.strip()\n",
        "jobs_df['location'] = jobs_df['location'].str.strip()\n",
        "\n",
        "# Removing duplicates\n",
        "jobs_df = jobs_df.drop_duplicates()\n",
        "\n",
        "# Check the dataset again for any remaining missing values\n",
        "print(jobs_df.isnull().sum())\n"
      ],
      "metadata": {
        "colab": {
          "base_uri": "https://localhost:8080/"
        },
        "id": "yFv_w9KcaWuU",
        "outputId": "6170c0f1-3996-493b-8ad2-ddb245949b42"
      },
      "execution_count": 10,
      "outputs": [
        {
          "output_type": "stream",
          "name": "stdout",
          "text": [
            "job_id              0\n",
            "job_role            0\n",
            "company             0\n",
            "experience          0\n",
            "salary              0\n",
            "location            0\n",
            "rating              0\n",
            "reviews             0\n",
            "responsibilities    0\n",
            "posted_on           0\n",
            "job_link            0\n",
            "company_link        0\n",
            "dtype: int64\n"
          ]
        }
      ]
    },
    {
      "cell_type": "markdown",
      "source": [
        "# **4. Exploratory Data Analysis (EDA)**"
      ],
      "metadata": {
        "id": "Mgj9EDaxYFch"
      }
    },
    {
      "cell_type": "markdown",
      "source": [
        "### 1.  job_id"
      ],
      "metadata": {
        "id": "0Kkc9r-Fan1D"
      }
    },
    {
      "cell_type": "code",
      "source": [
        "# Check for uniqueness of 'job_id'\n",
        "unique_job_ids = jobs_df['job_id'].nunique()\n",
        "total_job_ids = jobs_df['job_id'].count()\n",
        "\n",
        "print(f\"Total job_id entries: {total_job_ids}\")\n",
        "print(f\"Unique job_id entries: {unique_job_ids}\")\n",
        "\n",
        "# Check for duplicates in 'job_id'\n",
        "duplicate_job_ids = jobs_df['job_id'].duplicated().sum()\n",
        "print(f\"Number of duplicate job_ids: {duplicate_job_ids}\")\n",
        "\n",
        "# Check for missing values in 'job_id'\n",
        "missing_job_ids = jobs_df['job_id'].isnull().sum()\n",
        "print(f\"Number of missing job_ids: {missing_job_ids}\")\n",
        "\n",
        "# Remove duplicates if any\n",
        "if duplicate_job_ids > 0:\n",
        "    jobs_df = jobs_df.drop_duplicates(subset=['job_id'])\n",
        "    print(\"Duplicates removed.\")\n",
        "\n",
        "# Check for consistent length of 'job_id' (optional, based on specific requirements)\n",
        "job_id_lengths = jobs_df['job_id'].apply(len).unique()\n",
        "print(f\"Unique lengths of job_id: {job_id_lengths}\")\n",
        "\n",
        "# Ensure 'job_id' has no missing values\n",
        "if missing_job_ids > 0:\n",
        "    jobs_df = jobs_df.dropna(subset=['job_id'])\n",
        "    print(\"Missing job_ids removed.\")\n",
        "\n",
        "# Verify the changes\n",
        "print(\"\\nVerification after cleaning:\")\n",
        "print(f\"Total job_id entries: {jobs_df['job_id'].count()}\")\n",
        "print(f\"Unique job_id entries: {jobs_df['job_id'].nunique()}\")\n",
        "print(f\"Number of duplicate job_ids: {jobs_df['job_id'].duplicated().sum()}\")\n",
        "print(f\"Number of missing job_ids: {jobs_df['job_id'].isnull().sum()}\")\n"
      ],
      "metadata": {
        "colab": {
          "base_uri": "https://localhost:8080/"
        },
        "id": "aP96y4fSjYHt",
        "outputId": "27a6e15e-16c4-4784-fb5f-f32f7d5fb649"
      },
      "execution_count": 11,
      "outputs": [
        {
          "output_type": "stream",
          "name": "stdout",
          "text": [
            "Total job_id entries: 73344\n",
            "Unique job_id entries: 73008\n",
            "Number of duplicate job_ids: 336\n",
            "Number of missing job_ids: 0\n",
            "Duplicates removed.\n",
            "Unique lengths of job_id: [13 14]\n",
            "\n",
            "Verification after cleaning:\n",
            "Total job_id entries: 73008\n",
            "Unique job_id entries: 73008\n",
            "Number of duplicate job_ids: 0\n",
            "Number of missing job_ids: 0\n"
          ]
        }
      ]
    },
    {
      "cell_type": "markdown",
      "source": [
        "### 2. job_role"
      ],
      "metadata": {
        "id": "6Q-tkuLswl7_"
      }
    },
    {
      "cell_type": "code",
      "source": [
        "# Analyze the distribution of job roles\n",
        "print(\"\\nTop 10 job roles:\")\n",
        "print(jobs_df['job_role'].value_counts().head(10))\n",
        "\n",
        "# Standardize job role names (example, actual cleaning may vary)\n",
        "jobs_df['job_role'] = jobs_df['job_role'].str.strip().str.title()\n",
        "\n",
        "# Check for unique job roles\n",
        "print(f\"Number of unique job roles: {jobs_df['job_role'].nunique()}\")\n"
      ],
      "metadata": {
        "colab": {
          "base_uri": "https://localhost:8080/"
        },
        "id": "A5IFI2hawg3r",
        "outputId": "646722ef-ad8a-4108-9469-c878197f59cb"
      },
      "execution_count": 12,
      "outputs": [
        {
          "output_type": "stream",
          "name": "stdout",
          "text": [
            "\n",
            "Top 10 job roles:\n",
            "job_role\n",
            "Business Development Executive    302\n",
            "Sales Executive                   274\n",
            "Java Developer                    252\n",
            "Business Development Manager      248\n",
            "Sales Manager                     158\n",
            "Senior Software Engineer          144\n",
            "Graphic Designer                  143\n",
            "Business Analyst                  137\n",
            "Software Engineer                 132\n",
            "Dot Net Developer                 132\n",
            "Name: count, dtype: int64\n",
            "Number of unique job roles: 50339\n"
          ]
        }
      ]
    },
    {
      "cell_type": "markdown",
      "source": [
        "### 3.  company"
      ],
      "metadata": {
        "id": "DGEaXj9qcl3y"
      }
    },
    {
      "cell_type": "code",
      "source": [
        "# EDA on 'company' Column\n",
        "\n",
        "# Distribution Analysis\n",
        "print(\"Company Distribution:\")\n",
        "print(jobs_df['company'].value_counts().head(10))\n",
        "\n",
        "# Unique Values\n",
        "unique_companies = jobs_df['company'].nunique()\n",
        "print(f\"Number of unique companies: {unique_companies}\")\n",
        "\n",
        "# Frequency Count\n",
        "company_counts = jobs_df['company'].value_counts()\n",
        "print(\"Frequency of each company (top 10):\")\n",
        "print(company_counts.head(10))\n",
        "\n",
        "# Cleaning 'company' Column\n",
        "\n",
        "# Remove leading/trailing spaces and standardize text\n",
        "jobs_df['company'] = jobs_df['company'].str.strip().str.title()\n",
        "\n",
        "# Handle Missing Values\n",
        "missing_companies = jobs_df['company'].isnull().sum()\n",
        "print(f\"Number of missing companies: {missing_companies}\")\n",
        "\n",
        "if missing_companies > 0:\n",
        "    jobs_df['company'].fillna('Unknown', inplace=True)\n",
        "    print(\"Missing companies filled with 'Unknown'.\")\n",
        "\n",
        "# Handle Synonyms/Duplicates (example for merging similar names)\n",
        "# Create a dictionary for company replacements (example)\n",
        "company_replacements = {\n",
        "    'Google Inc': 'Google',\n",
        "    'Google Llc': 'Google',\n",
        "    'Microsoft Corporation': 'Microsoft',\n",
        "    # Add more replacements as needed\n",
        "}\n",
        "\n",
        "jobs_df['company'] = jobs_df['company'].replace(company_replacements)\n",
        "\n",
        "# Verify the changes\n",
        "print(\"\\nVerification after cleaning:\")\n",
        "print(jobs_df['company'].value_counts().head(10))\n",
        "print(f\"Number of unique companies after cleaning: {jobs_df['company'].nunique()}\")\n",
        "print(f\"Number of missing companies after cleaning: {jobs_df['company'].isnull().sum()}\")\n"
      ],
      "metadata": {
        "colab": {
          "base_uri": "https://localhost:8080/"
        },
        "id": "Ad_j5lYOkTEX",
        "outputId": "37ef0169-ee5d-42d4-9e8c-e6fdcb59fa0f"
      },
      "execution_count": 13,
      "outputs": [
        {
          "output_type": "stream",
          "name": "stdout",
          "text": [
            "Company Distribution:\n",
            "company\n",
            "Lavya Associates          5128\n",
            "Accenture                 2928\n",
            "Hucon                      852\n",
            "Varite India Pvt. Ltd.     815\n",
            "IBM                        656\n",
            "Megma Services             523\n",
            "Infosys                    505\n",
            "D'source                   502\n",
            "RCPC                       444\n",
            "Tekpillar Services         377\n",
            "Name: count, dtype: int64\n",
            "Number of unique companies: 15313\n",
            "Frequency of each company (top 10):\n",
            "company\n",
            "Lavya Associates          5128\n",
            "Accenture                 2928\n",
            "Hucon                      852\n",
            "Varite India Pvt. Ltd.     815\n",
            "IBM                        656\n",
            "Megma Services             523\n",
            "Infosys                    505\n",
            "D'source                   502\n",
            "RCPC                       444\n",
            "Tekpillar Services         377\n",
            "Name: count, dtype: int64\n",
            "Number of missing companies: 0\n",
            "\n",
            "Verification after cleaning:\n",
            "company\n",
            "Lavya Associates          5128\n",
            "Accenture                 2928\n",
            "Hucon                      852\n",
            "Varite India Pvt. Ltd.     815\n",
            "Ibm                        656\n",
            "Megma Services             523\n",
            "Infosys                    505\n",
            "D'Source                   502\n",
            "Rcpc                       444\n",
            "Tekpillar Services         377\n",
            "Name: count, dtype: int64\n",
            "Number of unique companies after cleaning: 15158\n",
            "Number of missing companies after cleaning: 0\n"
          ]
        }
      ]
    },
    {
      "cell_type": "markdown",
      "source": [
        "### 4. experience"
      ],
      "metadata": {
        "id": "RPihWjfLcqlW"
      }
    },
    {
      "cell_type": "code",
      "source": [
        "# Remove leading/trailing spaces and standardize text\n",
        "jobs_df['experience'] = jobs_df['experience'].str.strip()\n",
        "\n",
        "# Handle Missing Values\n",
        "missing_experience = jobs_df['experience'].isnull().sum()\n",
        "print(f\"Number of missing experience values: {missing_experience}\")\n",
        "\n",
        "if missing_experience > 0:\n",
        "    jobs_df['experience'].fillna('Not specified', inplace=True)\n",
        "    print(\"Missing experience values filled with 'Not specified'.\")\n",
        "\n",
        "# Extract and categorize experience levels\n",
        "def extract_upper_range(experience):\n",
        "    match = re.search(r'(\\d+)-(\\d+)', experience)\n",
        "    if match:\n",
        "        return int(match.group(2))\n",
        "    match = re.search(r'(\\d+)\\+', experience)\n",
        "    if match:\n",
        "        return int(match.group(1))\n",
        "    return None\n",
        "\n",
        "# Apply the function to extract the upper range\n",
        "jobs_df['upper_experience'] = jobs_df['experience'].apply(extract_upper_range)\n",
        "\n",
        "# Function to categorize experience\n",
        "def categorize_experience(upper_experience):\n",
        "    if upper_experience is None:\n",
        "        return 'Unknown'\n",
        "    elif upper_experience <= 1:\n",
        "        return 'Fresher'\n",
        "    elif upper_experience <= 3:\n",
        "        return 'Junior'\n",
        "    elif upper_experience <= 5:\n",
        "        return 'Medium'\n",
        "    elif upper_experience <= 10:\n",
        "        return 'Senior'\n",
        "    else:\n",
        "        return 'Expert'\n",
        "\n",
        "# Apply the function to categorize experience\n",
        "jobs_df['experience_category'] = jobs_df['upper_experience'].apply(categorize_experience)\n",
        "\n",
        "# Verify the changes\n",
        "print(\"\\nVerification after cleaning:\")\n",
        "print(jobs_df['experience_category'].value_counts())\n",
        "print(f\"Number of unique experience categories: {jobs_df['experience_category'].nunique()}\")\n",
        "print(f\"Number of missing experience values after cleaning: {jobs_df['experience'].isnull().sum()}\")\n"
      ],
      "metadata": {
        "colab": {
          "base_uri": "https://localhost:8080/"
        },
        "id": "-o9Ot6hVmwQO",
        "outputId": "5dbf5dfe-7530-437b-d8da-b9518fb81399"
      },
      "execution_count": 14,
      "outputs": [
        {
          "output_type": "stream",
          "name": "stdout",
          "text": [
            "Number of missing experience values: 0\n",
            "\n",
            "Verification after cleaning:\n",
            "experience_category\n",
            "Senior     36512\n",
            "Medium     15699\n",
            "Expert      9775\n",
            "Junior      8416\n",
            "Fresher     2606\n",
            "Name: count, dtype: int64\n",
            "Number of unique experience categories: 5\n",
            "Number of missing experience values after cleaning: 0\n"
          ]
        }
      ]
    },
    {
      "cell_type": "markdown",
      "source": [
        "### 5. salary"
      ],
      "metadata": {
        "id": "dv7YB_JDiMvo"
      }
    },
    {
      "cell_type": "code",
      "source": [
        "# Remove leading/trailing spaces\n",
        "jobs_df['salary'] = jobs_df['salary'].str.strip()\n",
        "\n",
        "# Handle Missing Values\n",
        "missing_salaries = jobs_df['salary'].isnull().sum()\n",
        "print(f\"Number of missing salary values: {missing_salaries}\")\n",
        "\n",
        "if missing_salaries > 0:\n",
        "    jobs_df['salary'].fillna('Not Disclosed', inplace=True)\n",
        "    print(\"Missing salary values filled with 'Not Disclosed'.\")\n",
        "\n",
        "# Extract and clean salary ranges\n",
        "def extract_upper_salary(salary):\n",
        "    if salary == \"Not Disclosed\":\n",
        "        return None\n",
        "    else:\n",
        "        match = re.search(r'-\\s*([\\d,]+)\\s*PA', salary)\n",
        "        if match:\n",
        "            upper_salary = match.group(1).replace(',', '')\n",
        "            return int(upper_salary)\n",
        "        return None\n",
        "\n",
        "jobs_df['upper_salary'] = jobs_df['salary'].apply(extract_upper_salary)\n",
        "\n",
        "# Categorize salaries into bands\n",
        "def categorize_salary(salary):\n",
        "    if pd.isna(salary):\n",
        "        return 'Not Disclosed'\n",
        "    elif salary < 300000:\n",
        "        return 'Low'\n",
        "    elif salary < 600000:\n",
        "        return 'Medium'\n",
        "    elif salary < 1000000:\n",
        "        return 'Good'\n",
        "    else:\n",
        "        return 'High'\n",
        "\n",
        "jobs_df['salary_band'] = jobs_df['upper_salary'].apply(categorize_salary)\n",
        "\n",
        "# Verify the changes\n",
        "print(\"\\nVerification after cleaning:\")\n",
        "print(jobs_df['salary_band'].value_counts())"
      ],
      "metadata": {
        "colab": {
          "base_uri": "https://localhost:8080/"
        },
        "id": "Jt1BYtCOogvV",
        "outputId": "37ec48e0-0968-427a-ed25-ff11db3c06d0"
      },
      "execution_count": 27,
      "outputs": [
        {
          "output_type": "stream",
          "name": "stdout",
          "text": [
            "Number of missing salary values: 0\n",
            "\n",
            "Verification after cleaning:\n",
            "salary_band\n",
            "Not Disclosed    46289\n",
            "Medium           10904\n",
            "Good             10130\n",
            "High              8201\n",
            "Low               3623\n",
            "Name: count, dtype: int64\n"
          ]
        }
      ]
    },
    {
      "cell_type": "markdown",
      "source": [
        "### 6. location"
      ],
      "metadata": {
        "id": "HhX5g4lSmMJH"
      }
    },
    {
      "cell_type": "code",
      "source": [
        "# Examine the distribution of job locations\n",
        "print(\"\\nTop 10 job locations:\")\n",
        "print(jobs_df['location'].value_counts().head(10))\n",
        "\n",
        "# Standardize location names\n",
        "jobs_df['location'] = jobs_df['location'].str.strip().str.title()\n"
      ],
      "metadata": {
        "colab": {
          "base_uri": "https://localhost:8080/"
        },
        "id": "dtUr1O8JmJit",
        "outputId": "9b714efd-2ee7-4ef1-a34d-2ed7d76c4448"
      },
      "execution_count": 17,
      "outputs": [
        {
          "output_type": "stream",
          "name": "stdout",
          "text": [
            "\n",
            "Top 10 job locations:\n",
            "location\n",
            "Bangalore/Bengaluru       9926\n",
            "Hyderabad/Secunderabad    3728\n",
            "Pune                      3211\n",
            "Chennai                   2921\n",
            "Mumbai                    2813\n",
            "Gurgaon/Gurugram          2710\n",
            "Noida                     1664\n",
            "Permanent Remote          1623\n",
            "Ahmedabad                 1215\n",
            "Unknown                   1208\n",
            "Name: count, dtype: int64\n"
          ]
        }
      ]
    },
    {
      "cell_type": "markdown",
      "source": [
        "### 7. Rating"
      ],
      "metadata": {
        "id": "do6BcYARmQsh"
      }
    },
    {
      "cell_type": "code",
      "source": [
        "# Analyze the distribution of company ratings\n",
        "print(\"\\nRating distribution:\")\n",
        "print(jobs_df['rating'].describe())\n"
      ],
      "metadata": {
        "colab": {
          "base_uri": "https://localhost:8080/"
        },
        "id": "s5gawV0rmVxM",
        "outputId": "caab5e47-8082-4b64-ab66-1363f68fac41"
      },
      "execution_count": 18,
      "outputs": [
        {
          "output_type": "stream",
          "name": "stdout",
          "text": [
            "\n",
            "Rating distribution:\n",
            "count    73008.000000\n",
            "mean         3.967419\n",
            "std          0.393600\n",
            "min          1.000000\n",
            "25%          4.000000\n",
            "50%          4.000000\n",
            "75%          4.000000\n",
            "max          5.000000\n",
            "Name: rating, dtype: float64\n"
          ]
        }
      ]
    },
    {
      "cell_type": "code",
      "source": [
        "# Ensure the 'rating' column is numeric\n",
        "jobs_df['rating'] = pd.to_numeric(jobs_df['rating'], errors='coerce')\n",
        "\n",
        "# Calculate the median of 'rating'\n",
        "median_rating = jobs_df['rating'].median()\n",
        "\n",
        "# Fill missing values with the median rating\n",
        "jobs_df['rating'].fillna(median_rating, inplace=True)\n",
        "\n",
        "# Check for missing values in 'rating' to confirm\n",
        "print(\"\\nMissing values in 'rating' after filling:\")\n",
        "print(jobs_df['rating'].isnull().sum())\n"
      ],
      "metadata": {
        "colab": {
          "base_uri": "https://localhost:8080/"
        },
        "id": "n_0lu28QjHqU",
        "outputId": "a2602283-bf88-4218-fc2b-fcedba1be681"
      },
      "execution_count": 19,
      "outputs": [
        {
          "output_type": "stream",
          "name": "stdout",
          "text": [
            "\n",
            "Missing values in 'rating' after filling:\n",
            "0\n"
          ]
        }
      ]
    },
    {
      "cell_type": "markdown",
      "source": [
        "### 8. reviews"
      ],
      "metadata": {
        "id": "nDLTdKLrmZom"
      }
    },
    {
      "cell_type": "code",
      "source": [
        "import pandas as pd\n",
        "import requests\n",
        "from io import BytesIO\n",
        "from zipfile import ZipFile\n",
        "import re\n",
        "\n",
        "# Step 1: Data Import\n",
        "url = 'https://github.com/satyam26en/JOB/blob/main/jobs.zip?raw=true'\n",
        "response = requests.get(url)\n",
        "\n",
        "if response.status_code == 200:\n",
        "    zip_file = BytesIO(response.content)\n",
        "    with ZipFile(zip_file) as z:\n",
        "        with z.open('jobs.csv') as f:\n",
        "            jobs_df = pd.read_csv(f)\n",
        "else:\n",
        "    raise Exception(f\"Failed to download file: {response.status_code}\")\n",
        "\n",
        "# Ensure the reviews column is treated as strings\n",
        "jobs_df['reviews'] = jobs_df['reviews'].astype(str)\n",
        "\n",
        "# Step 2: Clean and Extract Numeric Values from the Reviews Column\n",
        "def extract_review_number(review_str):\n",
        "    if pd.isna(review_str):\n",
        "        return None\n",
        "    numbers = re.findall(r'\\d+', str(review_str))\n",
        "    return int(numbers[0]) if numbers else None\n",
        "\n",
        "# Extract numeric review values\n",
        "jobs_df['numeric_reviews'] = jobs_df['reviews'].apply(extract_review_number)\n",
        "\n",
        "# Display the numeric reviews\n",
        "numeric_reviews = jobs_df['numeric_reviews'].dropna().unique()\n",
        "\n",
        "# Sort and display the top 10 numeric reviews\n",
        "top_ten_reviews = sorted(numeric_reviews, reverse=True)[:10]\n",
        "\n",
        "top_ten_reviews\n"
      ],
      "metadata": {
        "colab": {
          "base_uri": "https://localhost:8080/"
        },
        "id": "HFrpUL2p2d1l",
        "outputId": "37b1acf1-be5f-4bbe-8f98-5f0cfc0331f1"
      },
      "execution_count": 20,
      "outputs": [
        {
          "output_type": "execute_result",
          "data": {
            "text/plain": [
              "[50163.0,\n",
              " 43672.0,\n",
              " 39143.0,\n",
              " 39110.0,\n",
              " 33480.0,\n",
              " 32151.0,\n",
              " 32129.0,\n",
              " 28658.0,\n",
              " 28172.0,\n",
              " 24041.0]"
            ]
          },
          "metadata": {},
          "execution_count": 20
        }
      ]
    },
    {
      "cell_type": "markdown",
      "source": [
        "### 9.posted_on"
      ],
      "metadata": {
        "id": "DzLIMwSBtAHb"
      }
    },
    {
      "cell_type": "code",
      "source": [
        "# Display the `posted_on` column\n",
        "print(\"Posted On column:\")\n",
        "print(jobs_df['posted_on'].head())\n"
      ],
      "metadata": {
        "colab": {
          "base_uri": "https://localhost:8080/"
        },
        "id": "QznhW6Pbs5TR",
        "outputId": "e84b80a5-d824-4829-9bf4-1e62bece3fe6"
      },
      "execution_count": 21,
      "outputs": [
        {
          "output_type": "stream",
          "name": "stdout",
          "text": [
            "Posted On column:\n",
            "0    1 Day Ago\n",
            "1    1 Day Ago\n",
            "2    1 Day Ago\n",
            "3    1 Day Ago\n",
            "4    1 Day Ago\n",
            "Name: posted_on, dtype: object\n"
          ]
        }
      ]
    },
    {
      "cell_type": "code",
      "source": [
        "# Delete the `posted_on` column\n",
        "jobs_df.drop(columns=['posted_on'], inplace=True)\n",
        "\n",
        "# Verify that the column has been deleted\n",
        "print(\"Columns after deleting `posted_on`:\")\n",
        "print(jobs_df.columns)\n"
      ],
      "metadata": {
        "colab": {
          "base_uri": "https://localhost:8080/"
        },
        "id": "y7ZR-2scs8ll",
        "outputId": "9b4c5559-38e5-45a9-f48f-0b8b47355091"
      },
      "execution_count": 22,
      "outputs": [
        {
          "output_type": "stream",
          "name": "stdout",
          "text": [
            "Columns after deleting `posted_on`:\n",
            "Index(['job_id', 'job_role', 'company', 'experience', 'salary', 'location',\n",
            "       'rating', 'reviews', 'resposibilities', 'job_link', 'company_link',\n",
            "       'numeric_reviews'],\n",
            "      dtype='object')\n"
          ]
        }
      ]
    },
    {
      "cell_type": "markdown",
      "source": [
        "### 10. job_link and company_link"
      ],
      "metadata": {
        "id": "-icR99xQ2riC"
      }
    },
    {
      "cell_type": "code",
      "source": [
        "# Delete the `job_link` and `company_link` columns\n",
        "jobs_df.drop(columns=['job_link', 'company_link'], inplace=True)\n",
        "\n",
        "# Verify that the columns have been deleted\n",
        "print(\"Columns after deleting `job_link` and `company_link`:\")\n",
        "print(jobs_df.columns)\n"
      ],
      "metadata": {
        "colab": {
          "base_uri": "https://localhost:8080/"
        },
        "id": "eIC0I83qu6PM",
        "outputId": "aa137e44-3b21-4d33-b675-2696af5ba1ad"
      },
      "execution_count": 23,
      "outputs": [
        {
          "output_type": "stream",
          "name": "stdout",
          "text": [
            "Columns after deleting `job_link` and `company_link`:\n",
            "Index(['job_id', 'job_role', 'company', 'experience', 'salary', 'location',\n",
            "       'rating', 'reviews', 'resposibilities', 'numeric_reviews'],\n",
            "      dtype='object')\n"
          ]
        }
      ]
    },
    {
      "cell_type": "markdown",
      "source": [
        "# 5."
      ],
      "metadata": {
        "id": "IXm9-BYbvhTs"
      }
    },
    {
      "cell_type": "code",
      "source": [
        "# Save the cleaned DataFrame to a CSV file in the current directory\n",
        "cleaned_file_path = 'cleaned_jobs.csv'\n",
        "jobs_df.to_csv(cleaned_file_path, index=False)\n",
        "\n",
        "cleaned_file_path\n"
      ],
      "metadata": {
        "colab": {
          "base_uri": "https://localhost:8080/",
          "height": 35
        },
        "id": "oGMZ5G1Ovy14",
        "outputId": "b102ef39-831a-48ed-ed99-22350d6b301d"
      },
      "execution_count": 24,
      "outputs": [
        {
          "output_type": "execute_result",
          "data": {
            "text/plain": [
              "'cleaned_jobs.csv'"
            ],
            "application/vnd.google.colaboratory.intrinsic+json": {
              "type": "string"
            }
          },
          "metadata": {},
          "execution_count": 24
        }
      ]
    }
  ]
}