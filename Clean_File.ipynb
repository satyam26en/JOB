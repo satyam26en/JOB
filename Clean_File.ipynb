{
  "nbformat": 4,
  "nbformat_minor": 0,
  "metadata": {
    "colab": {
      "provenance": [],
      "include_colab_link": true
    },
    "kernelspec": {
      "name": "python3",
      "display_name": "Python 3"
    },
    "language_info": {
      "name": "python"
    }
  },
  "cells": [
    {
      "cell_type": "markdown",
      "metadata": {
        "id": "view-in-github",
        "colab_type": "text"
      },
      "source": [
        "<a href=\"https://colab.research.google.com/github/satyam26en/JOB/blob/main/Clean_File.ipynb\" target=\"_parent\"><img src=\"https://colab.research.google.com/assets/colab-badge.svg\" alt=\"Open In Colab\"/></a>"
      ]
    },
    {
      "cell_type": "markdown",
      "source": [
        "# **1. Import Libraries and Download the Dataset**"
      ],
      "metadata": {
        "id": "2OwRQzblXO15"
      }
    },
    {
      "cell_type": "code",
      "source": [
        "import pandas as pd\n",
        "import requests\n",
        "import re\n",
        "from sklearn.feature_extraction.text import CountVectorizer\n",
        "from io import BytesIO\n",
        "from zipfile import ZipFile\n",
        "from urllib.parse import urlparse\n",
        "from sklearn.feature_extraction.text import TfidfVectorizer\n",
        "from sklearn.cluster import KMeans\n",
        "url = 'https://github.com/satyam26en/JOB/blob/main/jobs.zip?raw=true'\n",
        "response = requests.get(url)\n",
        "if response.status_code == 200:\n",
        "    zip_file = BytesIO(response.content)\n",
        "    with ZipFile(zip_file) as z:\n",
        "       print(z.namelist())\n",
        "       with z.open('jobs.csv') as f:\n",
        "            jobs_df = pd.read_csv(f)\n",
        "else:\n",
        "    print(f\"Failed to download file: {response.status_code}\")\n",
        "jobs_df.head()\n"
      ],
      "metadata": {
        "colab": {
          "base_uri": "https://localhost:8080/",
          "height": 556
        },
        "id": "XwTtVw7cZngp",
        "outputId": "27fe44a4-73f2-476c-b88a-5814006deb30"
      },
      "execution_count": 26,
      "outputs": [
        {
          "output_type": "stream",
          "name": "stdout",
          "text": [
            "['jobs.csv']\n"
          ]
        },
        {
          "output_type": "execute_result",
          "data": {
            "text/plain": [
              "         job_id                                           job_role    company  \\\n",
              "0  7.012301e+10      Branch Banking - Calling For Women Candidates  Hdfc Bank   \n",
              "1  6.012391e+10                       Product Owner Senior Manager  Accenture   \n",
              "2  6.012391e+10  Employee Relations and Policies Associate Manager  Accenture   \n",
              "3  6.012391e+10         Employee Relations and Policies Specialist  Accenture   \n",
              "4  6.012301e+10                                  SAP BO Consultant   Mindtree   \n",
              "\n",
              "  experience         salary  \\\n",
              "0    1-6 Yrs  Not disclosed   \n",
              "1  11-15 Yrs  Not disclosed   \n",
              "2    3-7 Yrs  Not disclosed   \n",
              "3    3-7 Yrs  Not disclosed   \n",
              "4    5-7 Yrs  Not disclosed   \n",
              "\n",
              "                                            location  rating        reviews  \\\n",
              "0  Kolkata, Hyderabad/Secunderabad, Pune, Ahmedab...     4.0  39110 Reviews   \n",
              "1  Kolkata, Mumbai, Hyderabad/Secunderabad, Pune,...     4.1  32129 Reviews   \n",
              "2  Kolkata, Mumbai, Hyderabad/Secunderabad, Pune,...     4.1  32129 Reviews   \n",
              "3  Kolkata, Mumbai, Hyderabad/Secunderabad, Pune,...     4.1  32129 Reviews   \n",
              "4  Hybrid - Kolkata, Hyderabad/Secunderabad, Pune...     4.1   3759 Reviews   \n",
              "\n",
              "                                     resposibilities  posted_on  \\\n",
              "0     Customer Service,Sales,Relationship Management  1 Day Ago   \n",
              "1  Product management,Market analysis,Change mana...  1 Day Ago   \n",
              "2  Business process,Change management,Team manage...  1 Day Ago   \n",
              "3  Business process,Change management,Team manage...  1 Day Ago   \n",
              "4  SAP BO,PL / SQL,Oracle SQL,SAP Business Object...  1 Day Ago   \n",
              "\n",
              "                                            job_link  \\\n",
              "0  https://www.naukri.com/job-listings-branch-ban...   \n",
              "1  https://www.naukri.com/job-listings-product-ow...   \n",
              "2  https://www.naukri.com/job-listings-employee-r...   \n",
              "3  https://www.naukri.com/job-listings-employee-r...   \n",
              "4  https://www.naukri.com/job-listings-sap-bo-con...   \n",
              "\n",
              "                                        company_link  \n",
              "0  https://www.naukri.com/hdfc-bank-jobs-careers-213  \n",
              "1  https://www.naukri.com/accenture-jobs-careers-...  \n",
              "2  https://www.naukri.com/accenture-jobs-careers-...  \n",
              "3  https://www.naukri.com/accenture-jobs-careers-...  \n",
              "4  https://www.naukri.com/mindtree-jobs-careers-3...  "
            ],
            "text/html": [
              "\n",
              "  <div id=\"df-e1a6c256-8f1f-4b6a-93da-926ded88996e\" class=\"colab-df-container\">\n",
              "    <div>\n",
              "<style scoped>\n",
              "    .dataframe tbody tr th:only-of-type {\n",
              "        vertical-align: middle;\n",
              "    }\n",
              "\n",
              "    .dataframe tbody tr th {\n",
              "        vertical-align: top;\n",
              "    }\n",
              "\n",
              "    .dataframe thead th {\n",
              "        text-align: right;\n",
              "    }\n",
              "</style>\n",
              "<table border=\"1\" class=\"dataframe\">\n",
              "  <thead>\n",
              "    <tr style=\"text-align: right;\">\n",
              "      <th></th>\n",
              "      <th>job_id</th>\n",
              "      <th>job_role</th>\n",
              "      <th>company</th>\n",
              "      <th>experience</th>\n",
              "      <th>salary</th>\n",
              "      <th>location</th>\n",
              "      <th>rating</th>\n",
              "      <th>reviews</th>\n",
              "      <th>resposibilities</th>\n",
              "      <th>posted_on</th>\n",
              "      <th>job_link</th>\n",
              "      <th>company_link</th>\n",
              "    </tr>\n",
              "  </thead>\n",
              "  <tbody>\n",
              "    <tr>\n",
              "      <th>0</th>\n",
              "      <td>7.012301e+10</td>\n",
              "      <td>Branch Banking - Calling For Women Candidates</td>\n",
              "      <td>Hdfc Bank</td>\n",
              "      <td>1-6 Yrs</td>\n",
              "      <td>Not disclosed</td>\n",
              "      <td>Kolkata, Hyderabad/Secunderabad, Pune, Ahmedab...</td>\n",
              "      <td>4.0</td>\n",
              "      <td>39110 Reviews</td>\n",
              "      <td>Customer Service,Sales,Relationship Management</td>\n",
              "      <td>1 Day Ago</td>\n",
              "      <td>https://www.naukri.com/job-listings-branch-ban...</td>\n",
              "      <td>https://www.naukri.com/hdfc-bank-jobs-careers-213</td>\n",
              "    </tr>\n",
              "    <tr>\n",
              "      <th>1</th>\n",
              "      <td>6.012391e+10</td>\n",
              "      <td>Product Owner Senior Manager</td>\n",
              "      <td>Accenture</td>\n",
              "      <td>11-15 Yrs</td>\n",
              "      <td>Not disclosed</td>\n",
              "      <td>Kolkata, Mumbai, Hyderabad/Secunderabad, Pune,...</td>\n",
              "      <td>4.1</td>\n",
              "      <td>32129 Reviews</td>\n",
              "      <td>Product management,Market analysis,Change mana...</td>\n",
              "      <td>1 Day Ago</td>\n",
              "      <td>https://www.naukri.com/job-listings-product-ow...</td>\n",
              "      <td>https://www.naukri.com/accenture-jobs-careers-...</td>\n",
              "    </tr>\n",
              "    <tr>\n",
              "      <th>2</th>\n",
              "      <td>6.012391e+10</td>\n",
              "      <td>Employee Relations and Policies Associate Manager</td>\n",
              "      <td>Accenture</td>\n",
              "      <td>3-7 Yrs</td>\n",
              "      <td>Not disclosed</td>\n",
              "      <td>Kolkata, Mumbai, Hyderabad/Secunderabad, Pune,...</td>\n",
              "      <td>4.1</td>\n",
              "      <td>32129 Reviews</td>\n",
              "      <td>Business process,Change management,Team manage...</td>\n",
              "      <td>1 Day Ago</td>\n",
              "      <td>https://www.naukri.com/job-listings-employee-r...</td>\n",
              "      <td>https://www.naukri.com/accenture-jobs-careers-...</td>\n",
              "    </tr>\n",
              "    <tr>\n",
              "      <th>3</th>\n",
              "      <td>6.012391e+10</td>\n",
              "      <td>Employee Relations and Policies Specialist</td>\n",
              "      <td>Accenture</td>\n",
              "      <td>3-7 Yrs</td>\n",
              "      <td>Not disclosed</td>\n",
              "      <td>Kolkata, Mumbai, Hyderabad/Secunderabad, Pune,...</td>\n",
              "      <td>4.1</td>\n",
              "      <td>32129 Reviews</td>\n",
              "      <td>Business process,Change management,Team manage...</td>\n",
              "      <td>1 Day Ago</td>\n",
              "      <td>https://www.naukri.com/job-listings-employee-r...</td>\n",
              "      <td>https://www.naukri.com/accenture-jobs-careers-...</td>\n",
              "    </tr>\n",
              "    <tr>\n",
              "      <th>4</th>\n",
              "      <td>6.012301e+10</td>\n",
              "      <td>SAP BO Consultant</td>\n",
              "      <td>Mindtree</td>\n",
              "      <td>5-7 Yrs</td>\n",
              "      <td>Not disclosed</td>\n",
              "      <td>Hybrid - Kolkata, Hyderabad/Secunderabad, Pune...</td>\n",
              "      <td>4.1</td>\n",
              "      <td>3759 Reviews</td>\n",
              "      <td>SAP BO,PL / SQL,Oracle SQL,SAP Business Object...</td>\n",
              "      <td>1 Day Ago</td>\n",
              "      <td>https://www.naukri.com/job-listings-sap-bo-con...</td>\n",
              "      <td>https://www.naukri.com/mindtree-jobs-careers-3...</td>\n",
              "    </tr>\n",
              "  </tbody>\n",
              "</table>\n",
              "</div>\n",
              "    <div class=\"colab-df-buttons\">\n",
              "\n",
              "  <div class=\"colab-df-container\">\n",
              "    <button class=\"colab-df-convert\" onclick=\"convertToInteractive('df-e1a6c256-8f1f-4b6a-93da-926ded88996e')\"\n",
              "            title=\"Convert this dataframe to an interactive table.\"\n",
              "            style=\"display:none;\">\n",
              "\n",
              "  <svg xmlns=\"http://www.w3.org/2000/svg\" height=\"24px\" viewBox=\"0 -960 960 960\">\n",
              "    <path d=\"M120-120v-720h720v720H120Zm60-500h600v-160H180v160Zm220 220h160v-160H400v160Zm0 220h160v-160H400v160ZM180-400h160v-160H180v160Zm440 0h160v-160H620v160ZM180-180h160v-160H180v160Zm440 0h160v-160H620v160Z\"/>\n",
              "  </svg>\n",
              "    </button>\n",
              "\n",
              "  <style>\n",
              "    .colab-df-container {\n",
              "      display:flex;\n",
              "      gap: 12px;\n",
              "    }\n",
              "\n",
              "    .colab-df-convert {\n",
              "      background-color: #E8F0FE;\n",
              "      border: none;\n",
              "      border-radius: 50%;\n",
              "      cursor: pointer;\n",
              "      display: none;\n",
              "      fill: #1967D2;\n",
              "      height: 32px;\n",
              "      padding: 0 0 0 0;\n",
              "      width: 32px;\n",
              "    }\n",
              "\n",
              "    .colab-df-convert:hover {\n",
              "      background-color: #E2EBFA;\n",
              "      box-shadow: 0px 1px 2px rgba(60, 64, 67, 0.3), 0px 1px 3px 1px rgba(60, 64, 67, 0.15);\n",
              "      fill: #174EA6;\n",
              "    }\n",
              "\n",
              "    .colab-df-buttons div {\n",
              "      margin-bottom: 4px;\n",
              "    }\n",
              "\n",
              "    [theme=dark] .colab-df-convert {\n",
              "      background-color: #3B4455;\n",
              "      fill: #D2E3FC;\n",
              "    }\n",
              "\n",
              "    [theme=dark] .colab-df-convert:hover {\n",
              "      background-color: #434B5C;\n",
              "      box-shadow: 0px 1px 3px 1px rgba(0, 0, 0, 0.15);\n",
              "      filter: drop-shadow(0px 1px 2px rgba(0, 0, 0, 0.3));\n",
              "      fill: #FFFFFF;\n",
              "    }\n",
              "  </style>\n",
              "\n",
              "    <script>\n",
              "      const buttonEl =\n",
              "        document.querySelector('#df-e1a6c256-8f1f-4b6a-93da-926ded88996e button.colab-df-convert');\n",
              "      buttonEl.style.display =\n",
              "        google.colab.kernel.accessAllowed ? 'block' : 'none';\n",
              "\n",
              "      async function convertToInteractive(key) {\n",
              "        const element = document.querySelector('#df-e1a6c256-8f1f-4b6a-93da-926ded88996e');\n",
              "        const dataTable =\n",
              "          await google.colab.kernel.invokeFunction('convertToInteractive',\n",
              "                                                    [key], {});\n",
              "        if (!dataTable) return;\n",
              "\n",
              "        const docLinkHtml = 'Like what you see? Visit the ' +\n",
              "          '<a target=\"_blank\" href=https://colab.research.google.com/notebooks/data_table.ipynb>data table notebook</a>'\n",
              "          + ' to learn more about interactive tables.';\n",
              "        element.innerHTML = '';\n",
              "        dataTable['output_type'] = 'display_data';\n",
              "        await google.colab.output.renderOutput(dataTable, element);\n",
              "        const docLink = document.createElement('div');\n",
              "        docLink.innerHTML = docLinkHtml;\n",
              "        element.appendChild(docLink);\n",
              "      }\n",
              "    </script>\n",
              "  </div>\n",
              "\n",
              "\n",
              "<div id=\"df-1b84ee53-4e12-44e5-963a-fa8f1daa27bf\">\n",
              "  <button class=\"colab-df-quickchart\" onclick=\"quickchart('df-1b84ee53-4e12-44e5-963a-fa8f1daa27bf')\"\n",
              "            title=\"Suggest charts\"\n",
              "            style=\"display:none;\">\n",
              "\n",
              "<svg xmlns=\"http://www.w3.org/2000/svg\" height=\"24px\"viewBox=\"0 0 24 24\"\n",
              "     width=\"24px\">\n",
              "    <g>\n",
              "        <path d=\"M19 3H5c-1.1 0-2 .9-2 2v14c0 1.1.9 2 2 2h14c1.1 0 2-.9 2-2V5c0-1.1-.9-2-2-2zM9 17H7v-7h2v7zm4 0h-2V7h2v10zm4 0h-2v-4h2v4z\"/>\n",
              "    </g>\n",
              "</svg>\n",
              "  </button>\n",
              "\n",
              "<style>\n",
              "  .colab-df-quickchart {\n",
              "      --bg-color: #E8F0FE;\n",
              "      --fill-color: #1967D2;\n",
              "      --hover-bg-color: #E2EBFA;\n",
              "      --hover-fill-color: #174EA6;\n",
              "      --disabled-fill-color: #AAA;\n",
              "      --disabled-bg-color: #DDD;\n",
              "  }\n",
              "\n",
              "  [theme=dark] .colab-df-quickchart {\n",
              "      --bg-color: #3B4455;\n",
              "      --fill-color: #D2E3FC;\n",
              "      --hover-bg-color: #434B5C;\n",
              "      --hover-fill-color: #FFFFFF;\n",
              "      --disabled-bg-color: #3B4455;\n",
              "      --disabled-fill-color: #666;\n",
              "  }\n",
              "\n",
              "  .colab-df-quickchart {\n",
              "    background-color: var(--bg-color);\n",
              "    border: none;\n",
              "    border-radius: 50%;\n",
              "    cursor: pointer;\n",
              "    display: none;\n",
              "    fill: var(--fill-color);\n",
              "    height: 32px;\n",
              "    padding: 0;\n",
              "    width: 32px;\n",
              "  }\n",
              "\n",
              "  .colab-df-quickchart:hover {\n",
              "    background-color: var(--hover-bg-color);\n",
              "    box-shadow: 0 1px 2px rgba(60, 64, 67, 0.3), 0 1px 3px 1px rgba(60, 64, 67, 0.15);\n",
              "    fill: var(--button-hover-fill-color);\n",
              "  }\n",
              "\n",
              "  .colab-df-quickchart-complete:disabled,\n",
              "  .colab-df-quickchart-complete:disabled:hover {\n",
              "    background-color: var(--disabled-bg-color);\n",
              "    fill: var(--disabled-fill-color);\n",
              "    box-shadow: none;\n",
              "  }\n",
              "\n",
              "  .colab-df-spinner {\n",
              "    border: 2px solid var(--fill-color);\n",
              "    border-color: transparent;\n",
              "    border-bottom-color: var(--fill-color);\n",
              "    animation:\n",
              "      spin 1s steps(1) infinite;\n",
              "  }\n",
              "\n",
              "  @keyframes spin {\n",
              "    0% {\n",
              "      border-color: transparent;\n",
              "      border-bottom-color: var(--fill-color);\n",
              "      border-left-color: var(--fill-color);\n",
              "    }\n",
              "    20% {\n",
              "      border-color: transparent;\n",
              "      border-left-color: var(--fill-color);\n",
              "      border-top-color: var(--fill-color);\n",
              "    }\n",
              "    30% {\n",
              "      border-color: transparent;\n",
              "      border-left-color: var(--fill-color);\n",
              "      border-top-color: var(--fill-color);\n",
              "      border-right-color: var(--fill-color);\n",
              "    }\n",
              "    40% {\n",
              "      border-color: transparent;\n",
              "      border-right-color: var(--fill-color);\n",
              "      border-top-color: var(--fill-color);\n",
              "    }\n",
              "    60% {\n",
              "      border-color: transparent;\n",
              "      border-right-color: var(--fill-color);\n",
              "    }\n",
              "    80% {\n",
              "      border-color: transparent;\n",
              "      border-right-color: var(--fill-color);\n",
              "      border-bottom-color: var(--fill-color);\n",
              "    }\n",
              "    90% {\n",
              "      border-color: transparent;\n",
              "      border-bottom-color: var(--fill-color);\n",
              "    }\n",
              "  }\n",
              "</style>\n",
              "\n",
              "  <script>\n",
              "    async function quickchart(key) {\n",
              "      const quickchartButtonEl =\n",
              "        document.querySelector('#' + key + ' button');\n",
              "      quickchartButtonEl.disabled = true;  // To prevent multiple clicks.\n",
              "      quickchartButtonEl.classList.add('colab-df-spinner');\n",
              "      try {\n",
              "        const charts = await google.colab.kernel.invokeFunction(\n",
              "            'suggestCharts', [key], {});\n",
              "      } catch (error) {\n",
              "        console.error('Error during call to suggestCharts:', error);\n",
              "      }\n",
              "      quickchartButtonEl.classList.remove('colab-df-spinner');\n",
              "      quickchartButtonEl.classList.add('colab-df-quickchart-complete');\n",
              "    }\n",
              "    (() => {\n",
              "      let quickchartButtonEl =\n",
              "        document.querySelector('#df-1b84ee53-4e12-44e5-963a-fa8f1daa27bf button');\n",
              "      quickchartButtonEl.style.display =\n",
              "        google.colab.kernel.accessAllowed ? 'block' : 'none';\n",
              "    })();\n",
              "  </script>\n",
              "</div>\n",
              "\n",
              "    </div>\n",
              "  </div>\n"
            ],
            "application/vnd.google.colaboratory.intrinsic+json": {
              "type": "dataframe",
              "variable_name": "jobs_df",
              "summary": "{\n  \"name\": \"jobs_df\",\n  \"rows\": 79147,\n  \"fields\": [\n    {\n      \"column\": \"job_id\",\n      \"properties\": {\n        \"dtype\": \"number\",\n        \"std\": 109746366353.32233,\n        \"min\": 10122000503.0,\n        \"max\": 311222904900.0,\n        \"num_unique_values\": 73009,\n        \"samples\": [\n          20123000806.0,\n          291222007132.0,\n          70123500585.0\n        ],\n        \"semantic_type\": \"\",\n        \"description\": \"\"\n      }\n    },\n    {\n      \"column\": \"job_role\",\n      \"properties\": {\n        \"dtype\": \"string\",\n        \"num_unique_values\": 51050,\n        \"samples\": [\n          \"Web Administrator\",\n          \"Audio framework Engineer\",\n          \"TEKsystems #Hiring # SAP SD Consultant\"\n        ],\n        \"semantic_type\": \"\",\n        \"description\": \"\"\n      }\n    },\n    {\n      \"column\": \"company\",\n      \"properties\": {\n        \"dtype\": \"category\",\n        \"num_unique_values\": 15313,\n        \"samples\": [\n          \"Transglobe Iskcon India\",\n          \"Vrecroot\",\n          \"Leaptest\"\n        ],\n        \"semantic_type\": \"\",\n        \"description\": \"\"\n      }\n    },\n    {\n      \"column\": \"experience\",\n      \"properties\": {\n        \"dtype\": \"category\",\n        \"num_unique_values\": 231,\n        \"samples\": [\n          \"16-19 Yrs\",\n          \"10-12 Yrs\",\n          \"3-8 Yrs\"\n        ],\n        \"semantic_type\": \"\",\n        \"description\": \"\"\n      }\n    },\n    {\n      \"column\": \"salary\",\n      \"properties\": {\n        \"dtype\": \"category\",\n        \"num_unique_values\": 813,\n        \"samples\": [\n          \"14,00,000 - 22,50,000 PA.\",\n          \"55,00,000 - 65,00,000 PA.\",\n          \"2,00,000 - 4,75,000 PA.\"\n        ],\n        \"semantic_type\": \"\",\n        \"description\": \"\"\n      }\n    },\n    {\n      \"column\": \"location\",\n      \"properties\": {\n        \"dtype\": \"category\",\n        \"num_unique_values\": 9038,\n        \"samples\": [\n          \"Temp. WFH - Chennai\",\n          \"Vapi, Dadra & Nagar Haveli/Silvassa\",\n          \"New Delhi(Safdarjung Enclave), Delhi / NCR\"\n        ],\n        \"semantic_type\": \"\",\n        \"description\": \"\"\n      }\n    },\n    {\n      \"column\": \"rating\",\n      \"properties\": {\n        \"dtype\": \"number\",\n        \"std\": 0.5192110664984727,\n        \"min\": 1.0,\n        \"max\": 5.0,\n        \"num_unique_values\": 41,\n        \"samples\": [\n          2.2,\n          3.4,\n          4.4\n        ],\n        \"semantic_type\": \"\",\n        \"description\": \"\"\n      }\n    },\n    {\n      \"column\": \"reviews\",\n      \"properties\": {\n        \"dtype\": \"category\",\n        \"num_unique_values\": 980,\n        \"samples\": [\n          \"942 Reviews\",\n          \"867 Reviews\",\n          \"28172 Reviews\"\n        ],\n        \"semantic_type\": \"\",\n        \"description\": \"\"\n      }\n    },\n    {\n      \"column\": \"resposibilities\",\n      \"properties\": {\n        \"dtype\": \"string\",\n        \"num_unique_values\": 61911,\n        \"samples\": [\n          \".net core,aws,React.Js\",\n          \"Test Engineering,JIRA,Confluence,Analytical,JCL,SDLC,Communication,LMS\",\n          \"Team Management,Reporting,Presentation,account management,Market Research,Business Strategy,Swot Analysis,research\"\n        ],\n        \"semantic_type\": \"\",\n        \"description\": \"\"\n      }\n    },\n    {\n      \"column\": \"posted_on\",\n      \"properties\": {\n        \"dtype\": \"category\",\n        \"num_unique_values\": 26,\n        \"samples\": [\n          \"6 Days Ago\",\n          \"Just Now\",\n          \"1 Day Ago\"\n        ],\n        \"semantic_type\": \"\",\n        \"description\": \"\"\n      }\n    },\n    {\n      \"column\": \"job_link\",\n      \"properties\": {\n        \"dtype\": \"string\",\n        \"num_unique_values\": 73009,\n        \"samples\": [\n          \"https://www.naukri.com/job-listings-medical-coding-for-18-22-passout-microbiology-zoology-adv-zoo-grad-alpha-medical-coding-solutions-pondicherry-puducherry-chennai-tiruchirapalli-trichy-0-to-4-years-020123000806\",\n          \"https://www.naukri.com/job-listings-admission-counsellor-atz-properties-bangalore-bengaluru-1-to-3-years-291222007132\",\n          \"https://www.naukri.com/job-listings-hygiene-care-consultant-sr-hygiene-care-consultant-skillety-noida-kochi-cochin-kolkata-mumbai-chandigarh-hyderabad-secunderabad-pune-chennai-ahmedabad-bangalore-bengaluru-2-to-7-years-070123500585\"\n        ],\n        \"semantic_type\": \"\",\n        \"description\": \"\"\n      }\n    },\n    {\n      \"column\": \"company_link\",\n      \"properties\": {\n        \"dtype\": \"category\",\n        \"num_unique_values\": 13845,\n        \"samples\": [\n          \"https://www.naukri.com/modify-digital-jobs-careers-3717488\",\n          \"https://www.naukri.com/fg-glass-jobs-careers-4624134\",\n          \"https://www.naukri.com/n-solutions-jobs-careers-594659\"\n        ],\n        \"semantic_type\": \"\",\n        \"description\": \"\"\n      }\n    }\n  ]\n}"
            }
          },
          "metadata": {},
          "execution_count": 26
        }
      ]
    },
    {
      "cell_type": "markdown",
      "source": [
        "# **2. Initial Examination**"
      ],
      "metadata": {
        "id": "1bS7PUi7XXv4"
      }
    },
    {
      "cell_type": "markdown",
      "source": [
        "### 1. Display the first few rows of the dataset"
      ],
      "metadata": {
        "id": "Gr56dGH7UEaY"
      }
    },
    {
      "cell_type": "code",
      "source": [
        "print(\"First few rows of the dataset:\")\n",
        "print(jobs_df.head())"
      ],
      "metadata": {
        "id": "cZXVl8bgi3bd",
        "colab": {
          "base_uri": "https://localhost:8080/"
        },
        "outputId": "1c61d4bb-54c9-4dd0-b18e-32dd353f9556"
      },
      "execution_count": 4,
      "outputs": [
        {
          "output_type": "stream",
          "name": "stdout",
          "text": [
            "First few rows of the dataset:\n",
            "         job_id                                           job_role    company  \\\n",
            "0  7.012301e+10      Branch Banking - Calling For Women Candidates  Hdfc Bank   \n",
            "1  6.012391e+10                       Product Owner Senior Manager  Accenture   \n",
            "2  6.012391e+10  Employee Relations and Policies Associate Manager  Accenture   \n",
            "3  6.012391e+10         Employee Relations and Policies Specialist  Accenture   \n",
            "4  6.012301e+10                                  SAP BO Consultant   Mindtree   \n",
            "\n",
            "  experience         salary  \\\n",
            "0    1-6 Yrs  Not disclosed   \n",
            "1  11-15 Yrs  Not disclosed   \n",
            "2    3-7 Yrs  Not disclosed   \n",
            "3    3-7 Yrs  Not disclosed   \n",
            "4    5-7 Yrs  Not disclosed   \n",
            "\n",
            "                                            location  rating        reviews  \\\n",
            "0  Kolkata, Hyderabad/Secunderabad, Pune, Ahmedab...     4.0  39110 Reviews   \n",
            "1  Kolkata, Mumbai, Hyderabad/Secunderabad, Pune,...     4.1  32129 Reviews   \n",
            "2  Kolkata, Mumbai, Hyderabad/Secunderabad, Pune,...     4.1  32129 Reviews   \n",
            "3  Kolkata, Mumbai, Hyderabad/Secunderabad, Pune,...     4.1  32129 Reviews   \n",
            "4  Hybrid - Kolkata, Hyderabad/Secunderabad, Pune...     4.1   3759 Reviews   \n",
            "\n",
            "                                     resposibilities  posted_on  \\\n",
            "0     Customer Service,Sales,Relationship Management  1 Day Ago   \n",
            "1  Product management,Market analysis,Change mana...  1 Day Ago   \n",
            "2  Business process,Change management,Team manage...  1 Day Ago   \n",
            "3  Business process,Change management,Team manage...  1 Day Ago   \n",
            "4  SAP BO,PL / SQL,Oracle SQL,SAP Business Object...  1 Day Ago   \n",
            "\n",
            "                                            job_link  \\\n",
            "0  https://www.naukri.com/job-listings-branch-ban...   \n",
            "1  https://www.naukri.com/job-listings-product-ow...   \n",
            "2  https://www.naukri.com/job-listings-employee-r...   \n",
            "3  https://www.naukri.com/job-listings-employee-r...   \n",
            "4  https://www.naukri.com/job-listings-sap-bo-con...   \n",
            "\n",
            "                                        company_link  \n",
            "0  https://www.naukri.com/hdfc-bank-jobs-careers-213  \n",
            "1  https://www.naukri.com/accenture-jobs-careers-...  \n",
            "2  https://www.naukri.com/accenture-jobs-careers-...  \n",
            "3  https://www.naukri.com/accenture-jobs-careers-...  \n",
            "4  https://www.naukri.com/mindtree-jobs-careers-3...  \n"
          ]
        }
      ]
    },
    {
      "cell_type": "markdown",
      "source": [
        "### 2.  Dataset summary"
      ],
      "metadata": {
        "id": "G-65Gzp5UOLw"
      }
    },
    {
      "cell_type": "code",
      "source": [
        "print(\"\\nDataset summary:\")\n",
        "print(jobs_df.info())"
      ],
      "metadata": {
        "colab": {
          "base_uri": "https://localhost:8080/"
        },
        "id": "sJmyrD9DZubP",
        "outputId": "b2d65a41-1840-43f3-cd81-5f55dea27c9a"
      },
      "execution_count": 5,
      "outputs": [
        {
          "output_type": "stream",
          "name": "stdout",
          "text": [
            "\n",
            "Dataset summary:\n",
            "<class 'pandas.core.frame.DataFrame'>\n",
            "RangeIndex: 79147 entries, 0 to 79146\n",
            "Data columns (total 12 columns):\n",
            " #   Column           Non-Null Count  Dtype  \n",
            "---  ------           --------------  -----  \n",
            " 0   job_id           78667 non-null  float64\n",
            " 1   job_role         78667 non-null  object \n",
            " 2   company          78666 non-null  object \n",
            " 3   experience       77398 non-null  object \n",
            " 4   salary           78667 non-null  object \n",
            " 5   location         77441 non-null  object \n",
            " 6   rating           42948 non-null  float64\n",
            " 7   reviews          42948 non-null  object \n",
            " 8   resposibilities  78647 non-null  object \n",
            " 9   posted_on        78667 non-null  object \n",
            " 10  job_link         78667 non-null  object \n",
            " 11  company_link     78667 non-null  object \n",
            "dtypes: float64(2), object(10)\n",
            "memory usage: 7.2+ MB\n",
            "None\n"
          ]
        }
      ]
    },
    {
      "cell_type": "markdown",
      "source": [
        "### 3. Check for missing values"
      ],
      "metadata": {
        "id": "5rCunT0lUT15"
      }
    },
    {
      "cell_type": "code",
      "source": [
        "print(\"\\nMissing values in each column:\")\n",
        "print(jobs_df.isnull().sum())"
      ],
      "metadata": {
        "id": "6LXlCDrWi_Nq",
        "colab": {
          "base_uri": "https://localhost:8080/"
        },
        "outputId": "bf5a8666-a1a7-4e36-98f2-ab6c7bb8cb83"
      },
      "execution_count": 6,
      "outputs": [
        {
          "output_type": "stream",
          "name": "stdout",
          "text": [
            "\n",
            "Missing values in each column:\n",
            "job_id               480\n",
            "job_role             480\n",
            "company              481\n",
            "experience          1749\n",
            "salary               480\n",
            "location            1706\n",
            "rating             36199\n",
            "reviews            36199\n",
            "resposibilities      500\n",
            "posted_on            480\n",
            "job_link             480\n",
            "company_link         480\n",
            "dtype: int64\n"
          ]
        }
      ]
    },
    {
      "cell_type": "markdown",
      "source": [
        "# **3  Data Cleaning and Preparation**"
      ],
      "metadata": {
        "id": "ZTg0zjj1Xe8m"
      }
    },
    {
      "cell_type": "code",
      "source": [
        "# Correct column name if necessary (e.g., responsibilities might be resposibilities)\n",
        "jobs_df.rename(columns={'resposibilities': 'responsibilities'}, inplace=True)\n",
        "\n",
        "# Handling missing values\n",
        "jobs_df.dropna(subset=['job_role', 'company', 'posted_on', 'job_link', 'company_link'], inplace=True)\n",
        "jobs_df['experience'].fillna('Not specified', inplace=True)\n",
        "jobs_df['location'].fillna('Unknown', inplace=True)\n",
        "jobs_df['rating'] = pd.to_numeric(jobs_df['rating'], errors='coerce')\n",
        "\n",
        "# Convert reviews to string first\n",
        "jobs_df['reviews'] = jobs_df['reviews'].astype(str).str.replace(' Reviews', '').astype(float, errors='ignore')\n",
        "\n",
        "median_rating = jobs_df['rating'].median()\n",
        "median_reviews = jobs_df['reviews'].median()\n",
        "jobs_df['rating'].fillna(median_rating, inplace=True)\n",
        "jobs_df['reviews'].fillna(median_reviews, inplace=True)\n",
        "jobs_df['responsibilities'].fillna('Not specified', inplace=True)\n",
        "\n",
        "# Correcting data types\n",
        "jobs_df['job_id'] = jobs_df['job_id'].astype(str)\n",
        "jobs_df['experience'] = jobs_df['experience'].str.strip()\n",
        "jobs_df['salary'] = jobs_df['salary'].str.strip()\n",
        "jobs_df['location'] = jobs_df['location'].str.strip()\n",
        "jobs_df = jobs_df.drop_duplicates()\n",
        "print(jobs_df.isnull().sum())"
      ],
      "metadata": {
        "colab": {
          "base_uri": "https://localhost:8080/"
        },
        "id": "yFv_w9KcaWuU",
        "outputId": "524e962b-0c4b-40f7-917a-1b8b02caab51"
      },
      "execution_count": 7,
      "outputs": [
        {
          "output_type": "stream",
          "name": "stdout",
          "text": [
            "job_id              0\n",
            "job_role            0\n",
            "company             0\n",
            "experience          0\n",
            "salary              0\n",
            "location            0\n",
            "rating              0\n",
            "reviews             0\n",
            "responsibilities    0\n",
            "posted_on           0\n",
            "job_link            0\n",
            "company_link        0\n",
            "dtype: int64\n"
          ]
        }
      ]
    },
    {
      "cell_type": "markdown",
      "source": [
        "# **4. Exploratory Data Analysis (EDA)**"
      ],
      "metadata": {
        "id": "Mgj9EDaxYFch"
      }
    },
    {
      "cell_type": "markdown",
      "source": [
        "### 1.  job_id"
      ],
      "metadata": {
        "id": "0Kkc9r-Fan1D"
      }
    },
    {
      "cell_type": "code",
      "source": [
        "# Check for uniqueness of 'job_id'\n",
        "unique_job_ids = jobs_df['job_id'].nunique()\n",
        "print(f\"Unique job_id entries: {unique_job_ids}\")\n",
        "\n",
        "# Check for duplicates in 'job_id'\n",
        "duplicate_job_ids = jobs_df['job_id'].duplicated().sum()\n",
        "print(f\"Number of duplicate job_ids: {duplicate_job_ids}\")\n",
        "\n",
        "# Check for missing values in 'job_id'\n",
        "missing_job_ids = jobs_df['job_id'].isnull().sum()\n",
        "print(f\"Number of missing job_ids: {missing_job_ids}\")\n",
        "\n",
        "# Remove duplicates if any\n",
        "if duplicate_job_ids > 0:\n",
        "    jobs_df = jobs_df.drop_duplicates(subset=['job_id'])\n",
        "    print(\"Duplicates removed.\")\n",
        "\n",
        "# Check for consistent length of 'job_id' (optional, based on specific requirements)\n",
        "job_id_lengths = jobs_df['job_id'].apply(len).unique()\n",
        "print(f\"Unique lengths of job_id: {job_id_lengths}\")\n",
        "\n",
        "# Ensure 'job_id' has no missing values\n",
        "if missing_job_ids > 0:\n",
        "    jobs_df = jobs_df.dropna(subset=['job_id'])\n",
        "    print(\"Missing job_ids removed.\")\n",
        "\n",
        "# Verify the changes\n",
        "print(\"\\nVerification after cleaning:\")\n",
        "print(f\"Total job_id entries: {jobs_df['job_id'].count()}\")\n",
        "print(f\"Unique job_id entries: {jobs_df['job_id'].nunique()}\")\n",
        "print(f\"Number of duplicate job_ids: {jobs_df['job_id'].duplicated().sum()}\")\n",
        "print(f\"Number of missing job_ids: {jobs_df['job_id'].isnull().sum()}\")\n"
      ],
      "metadata": {
        "colab": {
          "base_uri": "https://localhost:8080/"
        },
        "id": "aP96y4fSjYHt",
        "outputId": "cbb929b6-99f0-4bf7-b6c2-d7e9351737c9"
      },
      "execution_count": 19,
      "outputs": [
        {
          "output_type": "stream",
          "name": "stdout",
          "text": [
            "Unique job_id entries: 73008\n",
            "Number of duplicate job_ids: 0\n",
            "Number of missing job_ids: 0\n",
            "Unique lengths of job_id: [13 14]\n",
            "\n",
            "Verification after cleaning:\n",
            "Total job_id entries: 73008\n",
            "Unique job_id entries: 73008\n",
            "Number of duplicate job_ids: 0\n",
            "Number of missing job_ids: 0\n"
          ]
        }
      ]
    },
    {
      "cell_type": "markdown",
      "source": [
        "### 2. job_role"
      ],
      "metadata": {
        "id": "6Q-tkuLswl7_"
      }
    },
    {
      "cell_type": "code",
      "source": [
        "# Analyze the distribution of job roles\n",
        "print(\"\\nTop 10 job roles:\")\n",
        "print(jobs_df['job_role'].value_counts().head(10))\n",
        "\n",
        "# Standardize job role names (example, actual cleaning may vary)\n",
        "jobs_df['job_role'] = jobs_df['job_role'].str.strip().str.title()\n",
        "\n",
        "# Check for unique job roles\n",
        "print(f\"Number of unique job roles: {jobs_df['job_role'].nunique()}\")\n"
      ],
      "metadata": {
        "colab": {
          "base_uri": "https://localhost:8080/"
        },
        "id": "A5IFI2hawg3r",
        "outputId": "3b41dde7-a314-4286-e17a-24e63a50bd04"
      },
      "execution_count": 9,
      "outputs": [
        {
          "output_type": "stream",
          "name": "stdout",
          "text": [
            "\n",
            "Top 10 job roles:\n",
            "job_role\n",
            "Business Development Executive    302\n",
            "Sales Executive                   274\n",
            "Java Developer                    252\n",
            "Business Development Manager      248\n",
            "Sales Manager                     158\n",
            "Senior Software Engineer          144\n",
            "Graphic Designer                  143\n",
            "Business Analyst                  137\n",
            "Software Engineer                 132\n",
            "Dot Net Developer                 132\n",
            "Name: count, dtype: int64\n",
            "Number of unique job roles: 50339\n"
          ]
        }
      ]
    },
    {
      "cell_type": "markdown",
      "source": [
        "### 3.  company"
      ],
      "metadata": {
        "id": "DGEaXj9qcl3y"
      }
    },
    {
      "cell_type": "code",
      "source": [
        "# Unique Values\n",
        "unique_companies = jobs_df['company'].nunique()\n",
        "print(f\"Number of unique companies: {unique_companies}\")\n",
        "\n",
        "# Frequency Count\n",
        "company_counts = jobs_df['company'].value_counts()\n",
        "print(\"Frequency of each company (top 10):\")\n",
        "print(company_counts.head(10))\n",
        "\n",
        "# Remove leading/trailing spaces and standardize text\n",
        "jobs_df['company'] = jobs_df['company'].str.strip().str.title()\n",
        "\n",
        "# Handle Missing Values\n",
        "missing_companies = jobs_df['company'].isnull().sum()\n",
        "print(f\"Number of missing companies: {missing_companies}\")\n",
        "\n",
        "if missing_companies > 0:\n",
        "    jobs_df['company'].fillna('Unknown', inplace=True)\n",
        "    print(\"Missing companies filled with 'Unknown'.\")\n",
        "\n",
        "# Verify the changes\n",
        "print(\"\\nVerification after cleaning:\")\n",
        "print(jobs_df['company'].value_counts().head(10))\n",
        "print(f\"Number of unique companies after cleaning: {jobs_df['company'].nunique()}\")\n",
        "print(f\"Number of missing companies after cleaning: {jobs_df['company'].isnull().sum()}\")\n"
      ],
      "metadata": {
        "colab": {
          "base_uri": "https://localhost:8080/"
        },
        "id": "Ad_j5lYOkTEX",
        "outputId": "e9d5b21d-721d-49c6-c575-47788fd76429"
      },
      "execution_count": 23,
      "outputs": [
        {
          "output_type": "stream",
          "name": "stdout",
          "text": [
            "Number of unique companies: 15158\n",
            "Frequency of each company (top 10):\n",
            "company\n",
            "Lavya Associates          5128\n",
            "Accenture                 2928\n",
            "Hucon                      852\n",
            "Varite India Pvt. Ltd.     815\n",
            "Ibm                        656\n",
            "Megma Services             523\n",
            "Infosys                    505\n",
            "D'Source                   502\n",
            "Rcpc                       444\n",
            "Tekpillar Services         377\n",
            "Name: count, dtype: int64\n",
            "Number of missing companies: 0\n",
            "\n",
            "Verification after cleaning:\n",
            "company\n",
            "Lavya Associates          5128\n",
            "Accenture                 2928\n",
            "Hucon                      852\n",
            "Varite India Pvt. Ltd.     815\n",
            "Ibm                        656\n",
            "Megma Services             523\n",
            "Infosys                    505\n",
            "D'Source                   502\n",
            "Rcpc                       444\n",
            "Tekpillar Services         377\n",
            "Name: count, dtype: int64\n",
            "Number of unique companies after cleaning: 15158\n",
            "Number of missing companies after cleaning: 0\n"
          ]
        }
      ]
    },
    {
      "cell_type": "markdown",
      "source": [
        "### 4. experience"
      ],
      "metadata": {
        "id": "RPihWjfLcqlW"
      }
    },
    {
      "cell_type": "code",
      "source": [
        "# Remove leading/trailing spaces and standardize text\n",
        "jobs_df['experience'] = jobs_df['experience'].str.strip()\n",
        "\n",
        "# Handle Missing Values\n",
        "missing_experience = jobs_df['experience'].isnull().sum()\n",
        "print(f\"Number of missing experience values: {missing_experience}\")\n",
        "\n",
        "if missing_experience > 0:\n",
        "    jobs_df['experience'].fillna('Not specified', inplace=True)\n",
        "    print(\"Missing experience values filled with 'Not specified'.\")\n",
        "\n",
        "# Extract and categorize experience levels\n",
        "def extract_upper_range(experience):\n",
        "    match = re.search(r'(\\d+)-(\\d+)', experience)\n",
        "    if match:\n",
        "        return int(match.group(2))\n",
        "    match = re.search(r'(\\d+)\\+', experience)\n",
        "    if match:\n",
        "        return int(match.group(1))\n",
        "    return None\n",
        "\n",
        "# Apply the function to extract the upper range\n",
        "jobs_df['upper_experience'] = jobs_df['experience'].apply(extract_upper_range)\n",
        "\n",
        "# Function to categorize experience\n",
        "def categorize_experience(upper_experience):\n",
        "    if upper_experience is None:\n",
        "        return 'Unknown'\n",
        "    elif upper_experience <= 1:\n",
        "        return 'Fresher'\n",
        "    elif upper_experience <= 3:\n",
        "        return 'Junior'\n",
        "    elif upper_experience <= 5:\n",
        "        return 'Medium'\n",
        "    elif upper_experience <= 10:\n",
        "        return 'Senior'\n",
        "    else:\n",
        "        return 'Expert'\n",
        "\n",
        "# Apply the function to categorize experience\n",
        "jobs_df['experience_category'] = jobs_df['upper_experience'].apply(categorize_experience)\n",
        "\n",
        "# Verify the changes\n",
        "print(\"\\nVerification after cleaning:\")\n",
        "print(jobs_df['experience_category'].value_counts())\n",
        "print(f\"Number of unique experience categories: {jobs_df['experience_category'].nunique()}\")\n",
        "print(f\"Number of missing experience values after cleaning: {jobs_df['experience'].isnull().sum()}\")\n"
      ],
      "metadata": {
        "colab": {
          "base_uri": "https://localhost:8080/"
        },
        "id": "-o9Ot6hVmwQO",
        "outputId": "5417c9e4-4ca2-4c84-9171-1606d27f9b17"
      },
      "execution_count": 11,
      "outputs": [
        {
          "output_type": "stream",
          "name": "stdout",
          "text": [
            "Number of missing experience values: 0\n",
            "\n",
            "Verification after cleaning:\n",
            "experience_category\n",
            "Senior     36512\n",
            "Medium     15699\n",
            "Expert      9775\n",
            "Junior      8416\n",
            "Fresher     2606\n",
            "Name: count, dtype: int64\n",
            "Number of unique experience categories: 5\n",
            "Number of missing experience values after cleaning: 0\n"
          ]
        }
      ]
    },
    {
      "cell_type": "markdown",
      "source": [
        "### 5. salary"
      ],
      "metadata": {
        "id": "dv7YB_JDiMvo"
      }
    },
    {
      "cell_type": "code",
      "source": [
        "# Remove leading/trailing spaces\n",
        "jobs_df['salary'] = jobs_df['salary'].str.strip()\n",
        "\n",
        "# Handle Missing Values\n",
        "missing_salaries = jobs_df['salary'].isnull().sum()\n",
        "print(f\"Number of missing salary values: {missing_salaries}\")\n",
        "\n",
        "if missing_salaries > 0:\n",
        "    jobs_df['salary'].fillna('Not Disclosed', inplace=True)\n",
        "    print(\"Missing salary values filled with 'Not Disclosed'.\")\n",
        "\n",
        "# Extract and clean salary ranges\n",
        "def extract_upper_salary(salary):\n",
        "    if salary == \"Not Disclosed\":\n",
        "        return None\n",
        "    else:\n",
        "        match = re.search(r'-\\s*([\\d,]+)\\s*PA', salary)\n",
        "        if match:\n",
        "            upper_salary = match.group(1).replace(',', '')\n",
        "            return int(upper_salary)\n",
        "        return None\n",
        "\n",
        "jobs_df['upper_salary'] = jobs_df['salary'].apply(extract_upper_salary)\n",
        "\n",
        "# Categorize salaries into bands\n",
        "def categorize_salary(salary):\n",
        "    if pd.isna(salary):\n",
        "        return 'Not Disclosed'\n",
        "    elif salary < 300000:\n",
        "        return 'Low'\n",
        "    elif salary < 600000:\n",
        "        return 'Medium'\n",
        "    elif salary < 1000000:\n",
        "        return 'Good'\n",
        "    else:\n",
        "        return 'High'\n",
        "\n",
        "jobs_df['salary_band'] = jobs_df['upper_salary'].apply(categorize_salary)\n",
        "\n",
        "# Verify the changes\n",
        "print(\"\\nVerification after cleaning:\")\n",
        "print(jobs_df['salary_band'].value_counts())"
      ],
      "metadata": {
        "colab": {
          "base_uri": "https://localhost:8080/"
        },
        "id": "Jt1BYtCOogvV",
        "outputId": "ab61cba2-36a3-4757-bc50-a7d246422bf4"
      },
      "execution_count": 12,
      "outputs": [
        {
          "output_type": "stream",
          "name": "stdout",
          "text": [
            "Number of missing salary values: 0\n",
            "\n",
            "Verification after cleaning:\n",
            "salary_band\n",
            "Not Disclosed    41203\n",
            "Medium           10542\n",
            "Good             10071\n",
            "High              7611\n",
            "Low               3581\n",
            "Name: count, dtype: int64\n"
          ]
        }
      ]
    },
    {
      "cell_type": "markdown",
      "source": [
        "### 6. location"
      ],
      "metadata": {
        "id": "HhX5g4lSmMJH"
      }
    },
    {
      "cell_type": "code",
      "source": [
        "# Data Preprocessing\n",
        "jobs_df['location'] = jobs_df['location'].str.strip().str.title().fillna('Unknown')\n",
        "\n",
        "# TF-IDF Vectorization\n",
        "vectorizer = TfidfVectorizer(stop_words='english')\n",
        "X = vectorizer.fit_transform(jobs_df['location'])\n",
        "\n",
        "# Clustering\n",
        "num_clusters = 10  # Adjust the number of clusters as needed\n",
        "kmeans = KMeans(n_clusters=num_clusters, random_state=42)\n",
        "jobs_df['location_cluster'] = kmeans.fit_predict(X)\n",
        "\n",
        "# Automate Replacement Based on Clusters\n",
        "cluster_replacements = {}\n",
        "for cluster_num in range(num_clusters):\n",
        "    cluster_locations = jobs_df[jobs_df['location_cluster'] == cluster_num]['location']\n",
        "    most_common_term = cluster_locations.value_counts().idxmax()\n",
        "    for location in cluster_locations.unique():\n",
        "        cluster_replacements[location] = most_common_term\n",
        "\n",
        "# Replace Synonyms\n",
        "jobs_df['location'] = jobs_df['location'].replace(cluster_replacements)\n",
        "\n",
        "# Verify the Changes\n",
        "print(\"\\nVerification after cleaning:\")\n",
        "print(jobs_df['location'].value_counts().head(10))\n",
        "print(f\"Number of unique locations after cleaning: {jobs_df['location'].nunique()}\")\n",
        "print(f\"Number of missing locations after cleaning: {jobs_df['location'].isnull().sum()}\")"
      ],
      "metadata": {
        "id": "G7jXs1rvuOGp",
        "colab": {
          "base_uri": "https://localhost:8080/"
        },
        "outputId": "b15dc8f0-8302-4ac5-ed84-7154c1d9ec4c"
      },
      "execution_count": 13,
      "outputs": [
        {
          "output_type": "stream",
          "name": "stderr",
          "text": [
            "/usr/local/lib/python3.10/dist-packages/sklearn/cluster/_kmeans.py:870: FutureWarning: The default value of `n_init` will change from 10 to 'auto' in 1.4. Set the value of `n_init` explicitly to suppress the warning\n",
            "  warnings.warn(\n"
          ]
        },
        {
          "output_type": "stream",
          "name": "stdout",
          "text": [
            "\n",
            "Verification after cleaning:\n",
            "location\n",
            "Permanent Remote          29199\n",
            "Bangalore/Bengaluru       11357\n",
            "Hyderabad/Secunderabad     6648\n",
            "Mumbai                     5686\n",
            "Delhi / Ncr                4827\n",
            "Gurgaon/Gurugram           4701\n",
            "Pune                       3524\n",
            "Chennai                    3254\n",
            "Noida                      2604\n",
            "Unknown                    1208\n",
            "Name: count, dtype: int64\n",
            "Number of unique locations after cleaning: 10\n",
            "Number of missing locations after cleaning: 0\n"
          ]
        }
      ]
    },
    {
      "cell_type": "markdown",
      "source": [
        "### 7. Rating"
      ],
      "metadata": {
        "id": "do6BcYARmQsh"
      }
    },
    {
      "cell_type": "code",
      "source": [
        "# Ensure the 'rating' column is numeric\n",
        "jobs_df['rating'] = pd.to_numeric(jobs_df['rating'], errors='coerce')\n",
        "\n",
        "# Calculate the median of 'rating'\n",
        "median_rating = jobs_df['rating'].median()\n",
        "\n",
        "# Fill missing values with the median rating\n",
        "jobs_df['rating'].fillna(median_rating, inplace=True)\n",
        "print(f\"Number of missing ratings after cleaning: {jobs_df['rating'].isnull().sum()}\")\n"
      ],
      "metadata": {
        "colab": {
          "base_uri": "https://localhost:8080/"
        },
        "id": "M-DSWMHLz7Qi",
        "outputId": "cf42a5a6-8985-43bc-cbe0-3853d80d72f6"
      },
      "execution_count": 14,
      "outputs": [
        {
          "output_type": "stream",
          "name": "stdout",
          "text": [
            "Number of missing ratings after cleaning: 0\n"
          ]
        }
      ]
    },
    {
      "cell_type": "markdown",
      "source": [
        "### 8. reviews"
      ],
      "metadata": {
        "id": "nDLTdKLrmZom"
      }
    },
    {
      "cell_type": "code",
      "source": [
        "# Ensure the reviews column is treated as strings\n",
        "jobs_df['reviews'] = jobs_df['reviews'].astype(str)\n",
        "\n",
        "# Step 2: Clean and Extract Numeric Values from the Reviews Column\n",
        "def extract_review_number(review_str):\n",
        "    if pd.isna(review_str):\n",
        "        return None\n",
        "    numbers = re.findall(r'\\d+', str(review_str))\n",
        "    return int(numbers[0]) if numbers else None\n",
        "\n",
        "# Extract numeric review values\n",
        "jobs_df['numeric_reviews'] = jobs_df['reviews'].apply(extract_review_number)\n",
        "\n",
        "# Display the numeric reviews\n",
        "numeric_reviews = jobs_df['numeric_reviews'].dropna().unique()\n",
        "\n",
        "# Sort and display the top 10 numeric reviews\n",
        "top_ten_reviews = sorted(numeric_reviews, reverse=True)[:10]\n",
        "\n",
        "top_ten_reviews\n"
      ],
      "metadata": {
        "colab": {
          "base_uri": "https://localhost:8080/"
        },
        "id": "HFrpUL2p2d1l",
        "outputId": "fa7d2599-2a9d-4cd4-f37f-48c145a2db25"
      },
      "execution_count": 15,
      "outputs": [
        {
          "output_type": "execute_result",
          "data": {
            "text/plain": [
              "[50163, 43672, 39110, 33480, 32129, 28658, 28172, 24041, 24022, 23786]"
            ]
          },
          "metadata": {},
          "execution_count": 15
        }
      ]
    },
    {
      "cell_type": "markdown",
      "source": [
        "### 9. Responsibilities"
      ],
      "metadata": {
        "id": "BdrIbG8o9bkW"
      }
    },
    {
      "cell_type": "code",
      "source": [
        "\n",
        "# Data Preprocessing\n",
        "if 'resposibilities' in jobs_df.columns:\n",
        "    jobs_df['resposibilities'] = jobs_df['resposibilities'].str.strip()\n",
        "\n",
        "    # Handle Missing Values\n",
        "    missing_resposibilities = jobs_df['resposibilities'].isnull().sum()\n",
        "    print(f\"Number of missing resposibilities: {missing_resposibilities}\")\n",
        "\n",
        "    if missing_resposibilities > 0:\n",
        "        jobs_df['resposibilities'].fillna('Not specified', inplace=True)\n",
        "        print(\"Missing resposibilities filled with 'Not specified'.\")\n",
        "\n",
        "    # Text Normalization\n",
        "    jobs_df['resposibilities'] = jobs_df['resposibilities'].str.lower().str.replace('[^a-zA-Z\\s]', '', regex=True)\n",
        "\n",
        "    # Keyword Extraction\n",
        "    vectorizer = CountVectorizer(stop_words='english', max_features=20)\n",
        "    X = vectorizer.fit_transform(jobs_df['resposibilities'])\n",
        "    keywords = vectorizer.get_feature_names_out()\n",
        "\n",
        "    print(\"\\nTop 20 keywords in job resposibilities:\")\n",
        "    print(keywords)\n",
        "\n",
        "    # Verify the Changes\n",
        "    print(\"\\nFirst few rows of the cleaned 'resposibilities' column:\")\n",
        "    print(jobs_df['resposibilities'].head())\n",
        "else:\n",
        "    print(\"'resposibilities' column is not present in the DataFrame.\")\n"
      ],
      "metadata": {
        "colab": {
          "base_uri": "https://localhost:8080/"
        },
        "id": "UUlLDHNd-kAm",
        "outputId": "3c3ee6d0-eaf9-49db-d1d3-ea9331a04379"
      },
      "execution_count": 27,
      "outputs": [
        {
          "output_type": "stream",
          "name": "stdout",
          "text": [
            "Number of missing resposibilities: 500\n",
            "Missing resposibilities filled with 'Not specified'.\n",
            "\n",
            "Top 20 keywords in job resposibilities:\n",
            "['agenttiedbusinessagencydstchanneldirectteam' 'business'\n",
            " 'channelbfsiagencyteam' 'communication' 'customer' 'data' 'design'\n",
            " 'development' 'handlingadvisorstrainingbranch' 'management' 'manager'\n",
            " 'office' 'process' 'product' 'sales' 'skills' 'team' 'tiedagency'\n",
            " 'training' 'voice']\n",
            "\n",
            "First few rows of the cleaned 'resposibilities' column:\n",
            "0         customer servicesalesrelationship management\n",
            "1    product managementmarket analysischange manage...\n",
            "2    business processchange managementteam manageme...\n",
            "3    business processchange managementteam manageme...\n",
            "4    sap bopl  sqloracle sqlsap business objects  x...\n",
            "Name: resposibilities, dtype: object\n"
          ]
        }
      ]
    },
    {
      "cell_type": "markdown",
      "source": [
        "### 10.Posted_on , Job_link and Company_link"
      ],
      "metadata": {
        "id": "DzLIMwSBtAHb"
      }
    },
    {
      "cell_type": "code",
      "source": [
        "# List of columns to drop\n",
        "columns_to_drop = ['posted_on', 'job_link', 'company_link']\n",
        "\n",
        "# Check if columns exist before dropping them\n",
        "columns_present = [col for col in columns_to_drop if col in jobs_df.columns]\n",
        "jobs_df.drop(columns=columns_present, inplace=True)\n",
        "\n",
        "# Verify the changes\n",
        "print(\"Columns after deletion:\")\n",
        "print(jobs_df.columns)\n"
      ],
      "metadata": {
        "colab": {
          "base_uri": "https://localhost:8080/"
        },
        "id": "bB9r9jNQ6IMB",
        "outputId": "032a6314-94bc-4f30-e1bf-503791e60cd2"
      },
      "execution_count": 17,
      "outputs": [
        {
          "output_type": "stream",
          "name": "stdout",
          "text": [
            "Columns after deletion:\n",
            "Index(['job_id', 'job_role', 'company', 'experience', 'salary', 'location',\n",
            "       'rating', 'reviews', 'responsibilities', 'upper_experience',\n",
            "       'experience_category', 'upper_salary', 'salary_band',\n",
            "       'location_cluster', 'numeric_reviews'],\n",
            "      dtype='object')\n"
          ]
        }
      ]
    },
    {
      "cell_type": "markdown",
      "source": [
        "# 6.INFO"
      ],
      "metadata": {
        "id": "YWZofLMfHBd2"
      }
    },
    {
      "cell_type": "code",
      "source": [
        "# Create a copy of the DataFrame to avoid modifying the original dataset\n",
        "df_copy = jobs_df.copy()\n",
        "\n",
        "# Drop the 'experience' column and replace 'experience_category' with 'experience'\n",
        "if 'experience' in df_copy.columns:\n",
        "    df_copy.drop(columns=['experience'], inplace=True)\n",
        "\n",
        "if 'experience_category' in df_copy.columns:\n",
        "    df_copy.rename(columns={'experience_category': 'experience'}, inplace=True)\n",
        "\n",
        "# Drop the 'salary' column and replace 'salary_band' with 'salary'\n",
        "if 'salary' in df_copy.columns:\n",
        "    df_copy.drop(columns=['salary'], inplace=True)\n",
        "\n",
        "if 'salary_band' in df_copy.columns:\n",
        "    df_copy.rename(columns={'salary_band': 'salary'}, inplace=True)\n",
        "\n",
        "# Drop the 'upper_experience' column\n",
        "if 'upper_experience' in df_copy.columns:\n",
        "    df_copy.drop(columns=['upper_experience'], inplace=True)\n",
        "\n",
        "# Drop the 'reviews' column and replace 'numeric_reviews' with 'reviews'\n",
        "if 'reviews' in df_copy.columns:\n",
        "    df_copy.drop(columns=['reviews'], inplace=True)\n",
        "\n",
        "if 'numeric_reviews' in df_copy.columns:\n",
        "    df_copy.rename(columns={'numeric_reviews': 'reviews'}, inplace=True)\n",
        "\n",
        "# Drop the 'upper_salary' column\n",
        "if 'upper_salary' in df_copy.columns:\n",
        "    df_copy.drop(columns=['upper_salary'], inplace=True)\n",
        "\n",
        "# Display the DataFrame\n",
        "print(\"\\nUpdated DataFrame:\")\n",
        "print(df_copy)\n",
        "\n",
        "# Save the updated DataFrame to a local CSV file\n",
        "output_file_path = 'updated_jobs.csv'\n",
        "df_copy.to_csv(output_file_path, index=False)\n",
        "\n",
        "print(f\"The updated DataFrame has been saved to {output_file_path}\")\n"
      ],
      "metadata": {
        "id": "d3z1GYxRHr_K",
        "colab": {
          "base_uri": "https://localhost:8080/"
        },
        "outputId": "e4243625-cb38-48f6-f380-9f4e36996f0b"
      },
      "execution_count": 18,
      "outputs": [
        {
          "output_type": "stream",
          "name": "stdout",
          "text": [
            "\n",
            "Updated DataFrame:\n",
            "               job_id                                           job_role  \\\n",
            "0       70123006070.0      Branch Banking - Calling For Women Candidates   \n",
            "1       60123905908.0                       Product Owner Senior Manager   \n",
            "2       60123905898.0  Employee Relations And Policies Associate Manager   \n",
            "3       60123905897.0         Employee Relations And Policies Specialist   \n",
            "4       60123008332.0                                  Sap Bo Consultant   \n",
            "...               ...                                                ...   \n",
            "73762   20123002989.0            Partner Success Executive/Edtech/Punjab   \n",
            "73763   20123002957.0            Partner Success Associate/Edtech/Punjab   \n",
            "73764  231222003986.0  Hiring For International Voice Process | Gurga...   \n",
            "73765  171220001449.0                                   Fresher Engineer   \n",
            "73766   71022008732.0            Anatomy Trainer - Part Time / Full Time   \n",
            "\n",
            "                     company          location  rating  \\\n",
            "0                  Hdfc Bank       Delhi / Ncr     4.0   \n",
            "1                  Accenture       Delhi / Ncr     4.1   \n",
            "2                  Accenture       Delhi / Ncr     4.1   \n",
            "3                  Accenture       Delhi / Ncr     4.1   \n",
            "4                   Mindtree       Delhi / Ncr     4.1   \n",
            "...                      ...               ...     ...   \n",
            "73762       Parth Associates  Permanent Remote     4.0   \n",
            "73763       Parth Associates  Permanent Remote     4.0   \n",
            "73764   First Step Solutions  Gurgaon/Gurugram     4.0   \n",
            "73765                 Sofcon  Permanent Remote     2.8   \n",
            "73766  Indian Healthcare Bpo  Permanent Remote     4.0   \n",
            "\n",
            "                                        responsibilities experience  \\\n",
            "0         Customer Service,Sales,Relationship Management     Senior   \n",
            "1      Product management,Market analysis,Change mana...     Expert   \n",
            "2      Business process,Change management,Team manage...     Senior   \n",
            "3      Business process,Change management,Team manage...     Senior   \n",
            "4      SAP BO,PL / SQL,Oracle SQL,SAP Business Object...     Senior   \n",
            "...                                                  ...        ...   \n",
            "73762  CRM,Communication Skills,Presentation Skills,C...     Medium   \n",
            "73763  CRM,Communication Skills,Presentation Skills,C...     Medium   \n",
            "73764  Customer Service,US Process,Hospitality,Custom...     Medium   \n",
            "73765  ENGINEERING,B Tech Fresher,AutoCAD,Degree,PLC,...     Junior   \n",
            "73766  Lecturer Activities,Nursing Education,Trainer,...     Senior   \n",
            "\n",
            "              salary  location_cluster  reviews  \n",
            "0      Not Disclosed                 0    39110  \n",
            "1      Not Disclosed                 0    32129  \n",
            "2      Not Disclosed                 0    32129  \n",
            "3      Not Disclosed                 0    32129  \n",
            "4      Not Disclosed                 0     3759  \n",
            "...              ...               ...      ...  \n",
            "73762           Good                 7      225  \n",
            "73763           Good                 7      225  \n",
            "73764         Medium                 3      225  \n",
            "73765  Not Disclosed                 7        3  \n",
            "73766  Not Disclosed                 7      225  \n",
            "\n",
            "[73008 rows x 10 columns]\n",
            "The updated DataFrame has been saved to updated_jobs.csv\n"
          ]
        }
      ]
    }
  ]
}