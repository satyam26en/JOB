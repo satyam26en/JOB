{
  "nbformat": 4,
  "nbformat_minor": 0,
  "metadata": {
    "colab": {
      "provenance": [],
      "authorship_tag": "ABX9TyNPpfZrjhq4/5qJcXK39dpR",
      "include_colab_link": true
    },
    "kernelspec": {
      "name": "python3",
      "display_name": "Python 3"
    },
    "language_info": {
      "name": "python"
    }
  },
  "cells": [
    {
      "cell_type": "markdown",
      "metadata": {
        "id": "view-in-github",
        "colab_type": "text"
      },
      "source": [
        "<a href=\"https://colab.research.google.com/github/satyam26en/JOB/blob/main/F1.ipynb\" target=\"_parent\"><img src=\"https://colab.research.google.com/assets/colab-badge.svg\" alt=\"Open In Colab\"/></a>"
      ]
    },
    {
      "cell_type": "code",
      "execution_count": null,
      "metadata": {
        "colab": {
          "base_uri": "https://localhost:8080/",
          "height": 542
        },
        "id": "5nxYeXsJ1DYG",
        "outputId": "e70421fc-1b33-4ce3-ea90-e8441cb4f7a8"
      },
      "outputs": [
        {
          "output_type": "display_data",
          "data": {
            "text/html": [
              "<html>\n",
              "<head><meta charset=\"utf-8\" /></head>\n",
              "<body>\n",
              "    <div>            <script src=\"https://cdnjs.cloudflare.com/ajax/libs/mathjax/2.7.5/MathJax.js?config=TeX-AMS-MML_SVG\"></script><script type=\"text/javascript\">if (window.MathJax && window.MathJax.Hub && window.MathJax.Hub.Config) {window.MathJax.Hub.Config({SVG: {font: \"STIX-Web\"}});}</script>                <script type=\"text/javascript\">window.PlotlyConfig = {MathJaxConfig: 'local'};</script>\n",
              "        <script charset=\"utf-8\" src=\"https://cdn.plot.ly/plotly-2.24.1.min.js\"></script>                <div id=\"31f3b326-0ced-4cb1-8431-ed0f12e00cd1\" class=\"plotly-graph-div\" style=\"height:525px; width:100%;\"></div>            <script type=\"text/javascript\">                                    window.PLOTLYENV=window.PLOTLYENV || {};                                    if (document.getElementById(\"31f3b326-0ced-4cb1-8431-ed0f12e00cd1\")) {                    Plotly.newPlot(                        \"31f3b326-0ced-4cb1-8431-ed0f12e00cd1\",                        [{\"alignmentgroup\":\"True\",\"customdata\":[[6833.0],[1390.0],[53760.0],[1980.0],[68850.0],[1380.0],[4584.0],[1266.0],[1768.0],[4416.0]],\"hovertemplate\":\"company=%{x}\\u003cbr\\u003eaverage_rating=%{y}\\u003cbr\\u003etotal_reviews=%{customdata[0]}\\u003cextra\\u003e\\u003c\\u002fextra\\u003e\",\"legendgroup\":\"\",\"marker\":{\"color\":\"#636efa\",\"pattern\":{\"shape\":\"\"}},\"name\":\"\",\"offsetgroup\":\"\",\"orientation\":\"v\",\"showlegend\":false,\"textposition\":\"auto\",\"x\":[\"Jobshop Consulting\",\"Aurigo Software Technologies\",\"Wintax Solution\",\"Fingent\",\"Kalyan Jewellers\",\"Educohire\",\"Duck Creek\",\"Zimetrics Technologies\",\"Qentelli\",\"Achievers Spot\"],\"xaxis\":\"x\",\"y\":[4.9957805907173,4.9,4.8,4.8,4.8,4.714285714285714,4.7,4.7,4.7,4.7],\"yaxis\":\"y\",\"type\":\"bar\"}],                        {\"template\":{\"data\":{\"histogram2dcontour\":[{\"type\":\"histogram2dcontour\",\"colorbar\":{\"outlinewidth\":0,\"ticks\":\"\"},\"colorscale\":[[0.0,\"#0d0887\"],[0.1111111111111111,\"#46039f\"],[0.2222222222222222,\"#7201a8\"],[0.3333333333333333,\"#9c179e\"],[0.4444444444444444,\"#bd3786\"],[0.5555555555555556,\"#d8576b\"],[0.6666666666666666,\"#ed7953\"],[0.7777777777777778,\"#fb9f3a\"],[0.8888888888888888,\"#fdca26\"],[1.0,\"#f0f921\"]]}],\"choropleth\":[{\"type\":\"choropleth\",\"colorbar\":{\"outlinewidth\":0,\"ticks\":\"\"}}],\"histogram2d\":[{\"type\":\"histogram2d\",\"colorbar\":{\"outlinewidth\":0,\"ticks\":\"\"},\"colorscale\":[[0.0,\"#0d0887\"],[0.1111111111111111,\"#46039f\"],[0.2222222222222222,\"#7201a8\"],[0.3333333333333333,\"#9c179e\"],[0.4444444444444444,\"#bd3786\"],[0.5555555555555556,\"#d8576b\"],[0.6666666666666666,\"#ed7953\"],[0.7777777777777778,\"#fb9f3a\"],[0.8888888888888888,\"#fdca26\"],[1.0,\"#f0f921\"]]}],\"heatmap\":[{\"type\":\"heatmap\",\"colorbar\":{\"outlinewidth\":0,\"ticks\":\"\"},\"colorscale\":[[0.0,\"#0d0887\"],[0.1111111111111111,\"#46039f\"],[0.2222222222222222,\"#7201a8\"],[0.3333333333333333,\"#9c179e\"],[0.4444444444444444,\"#bd3786\"],[0.5555555555555556,\"#d8576b\"],[0.6666666666666666,\"#ed7953\"],[0.7777777777777778,\"#fb9f3a\"],[0.8888888888888888,\"#fdca26\"],[1.0,\"#f0f921\"]]}],\"heatmapgl\":[{\"type\":\"heatmapgl\",\"colorbar\":{\"outlinewidth\":0,\"ticks\":\"\"},\"colorscale\":[[0.0,\"#0d0887\"],[0.1111111111111111,\"#46039f\"],[0.2222222222222222,\"#7201a8\"],[0.3333333333333333,\"#9c179e\"],[0.4444444444444444,\"#bd3786\"],[0.5555555555555556,\"#d8576b\"],[0.6666666666666666,\"#ed7953\"],[0.7777777777777778,\"#fb9f3a\"],[0.8888888888888888,\"#fdca26\"],[1.0,\"#f0f921\"]]}],\"contourcarpet\":[{\"type\":\"contourcarpet\",\"colorbar\":{\"outlinewidth\":0,\"ticks\":\"\"}}],\"contour\":[{\"type\":\"contour\",\"colorbar\":{\"outlinewidth\":0,\"ticks\":\"\"},\"colorscale\":[[0.0,\"#0d0887\"],[0.1111111111111111,\"#46039f\"],[0.2222222222222222,\"#7201a8\"],[0.3333333333333333,\"#9c179e\"],[0.4444444444444444,\"#bd3786\"],[0.5555555555555556,\"#d8576b\"],[0.6666666666666666,\"#ed7953\"],[0.7777777777777778,\"#fb9f3a\"],[0.8888888888888888,\"#fdca26\"],[1.0,\"#f0f921\"]]}],\"surface\":[{\"type\":\"surface\",\"colorbar\":{\"outlinewidth\":0,\"ticks\":\"\"},\"colorscale\":[[0.0,\"#0d0887\"],[0.1111111111111111,\"#46039f\"],[0.2222222222222222,\"#7201a8\"],[0.3333333333333333,\"#9c179e\"],[0.4444444444444444,\"#bd3786\"],[0.5555555555555556,\"#d8576b\"],[0.6666666666666666,\"#ed7953\"],[0.7777777777777778,\"#fb9f3a\"],[0.8888888888888888,\"#fdca26\"],[1.0,\"#f0f921\"]]}],\"mesh3d\":[{\"type\":\"mesh3d\",\"colorbar\":{\"outlinewidth\":0,\"ticks\":\"\"}}],\"scatter\":[{\"fillpattern\":{\"fillmode\":\"overlay\",\"size\":10,\"solidity\":0.2},\"type\":\"scatter\"}],\"parcoords\":[{\"type\":\"parcoords\",\"line\":{\"colorbar\":{\"outlinewidth\":0,\"ticks\":\"\"}}}],\"scatterpolargl\":[{\"type\":\"scatterpolargl\",\"marker\":{\"colorbar\":{\"outlinewidth\":0,\"ticks\":\"\"}}}],\"bar\":[{\"error_x\":{\"color\":\"#2a3f5f\"},\"error_y\":{\"color\":\"#2a3f5f\"},\"marker\":{\"line\":{\"color\":\"#E5ECF6\",\"width\":0.5},\"pattern\":{\"fillmode\":\"overlay\",\"size\":10,\"solidity\":0.2}},\"type\":\"bar\"}],\"scattergeo\":[{\"type\":\"scattergeo\",\"marker\":{\"colorbar\":{\"outlinewidth\":0,\"ticks\":\"\"}}}],\"scatterpolar\":[{\"type\":\"scatterpolar\",\"marker\":{\"colorbar\":{\"outlinewidth\":0,\"ticks\":\"\"}}}],\"histogram\":[{\"marker\":{\"pattern\":{\"fillmode\":\"overlay\",\"size\":10,\"solidity\":0.2}},\"type\":\"histogram\"}],\"scattergl\":[{\"type\":\"scattergl\",\"marker\":{\"colorbar\":{\"outlinewidth\":0,\"ticks\":\"\"}}}],\"scatter3d\":[{\"type\":\"scatter3d\",\"line\":{\"colorbar\":{\"outlinewidth\":0,\"ticks\":\"\"}},\"marker\":{\"colorbar\":{\"outlinewidth\":0,\"ticks\":\"\"}}}],\"scattermapbox\":[{\"type\":\"scattermapbox\",\"marker\":{\"colorbar\":{\"outlinewidth\":0,\"ticks\":\"\"}}}],\"scatterternary\":[{\"type\":\"scatterternary\",\"marker\":{\"colorbar\":{\"outlinewidth\":0,\"ticks\":\"\"}}}],\"scattercarpet\":[{\"type\":\"scattercarpet\",\"marker\":{\"colorbar\":{\"outlinewidth\":0,\"ticks\":\"\"}}}],\"carpet\":[{\"aaxis\":{\"endlinecolor\":\"#2a3f5f\",\"gridcolor\":\"white\",\"linecolor\":\"white\",\"minorgridcolor\":\"white\",\"startlinecolor\":\"#2a3f5f\"},\"baxis\":{\"endlinecolor\":\"#2a3f5f\",\"gridcolor\":\"white\",\"linecolor\":\"white\",\"minorgridcolor\":\"white\",\"startlinecolor\":\"#2a3f5f\"},\"type\":\"carpet\"}],\"table\":[{\"cells\":{\"fill\":{\"color\":\"#EBF0F8\"},\"line\":{\"color\":\"white\"}},\"header\":{\"fill\":{\"color\":\"#C8D4E3\"},\"line\":{\"color\":\"white\"}},\"type\":\"table\"}],\"barpolar\":[{\"marker\":{\"line\":{\"color\":\"#E5ECF6\",\"width\":0.5},\"pattern\":{\"fillmode\":\"overlay\",\"size\":10,\"solidity\":0.2}},\"type\":\"barpolar\"}],\"pie\":[{\"automargin\":true,\"type\":\"pie\"}]},\"layout\":{\"autotypenumbers\":\"strict\",\"colorway\":[\"#636efa\",\"#EF553B\",\"#00cc96\",\"#ab63fa\",\"#FFA15A\",\"#19d3f3\",\"#FF6692\",\"#B6E880\",\"#FF97FF\",\"#FECB52\"],\"font\":{\"color\":\"#2a3f5f\"},\"hovermode\":\"closest\",\"hoverlabel\":{\"align\":\"left\"},\"paper_bgcolor\":\"white\",\"plot_bgcolor\":\"#E5ECF6\",\"polar\":{\"bgcolor\":\"#E5ECF6\",\"angularaxis\":{\"gridcolor\":\"white\",\"linecolor\":\"white\",\"ticks\":\"\"},\"radialaxis\":{\"gridcolor\":\"white\",\"linecolor\":\"white\",\"ticks\":\"\"}},\"ternary\":{\"bgcolor\":\"#E5ECF6\",\"aaxis\":{\"gridcolor\":\"white\",\"linecolor\":\"white\",\"ticks\":\"\"},\"baxis\":{\"gridcolor\":\"white\",\"linecolor\":\"white\",\"ticks\":\"\"},\"caxis\":{\"gridcolor\":\"white\",\"linecolor\":\"white\",\"ticks\":\"\"}},\"coloraxis\":{\"colorbar\":{\"outlinewidth\":0,\"ticks\":\"\"}},\"colorscale\":{\"sequential\":[[0.0,\"#0d0887\"],[0.1111111111111111,\"#46039f\"],[0.2222222222222222,\"#7201a8\"],[0.3333333333333333,\"#9c179e\"],[0.4444444444444444,\"#bd3786\"],[0.5555555555555556,\"#d8576b\"],[0.6666666666666666,\"#ed7953\"],[0.7777777777777778,\"#fb9f3a\"],[0.8888888888888888,\"#fdca26\"],[1.0,\"#f0f921\"]],\"sequentialminus\":[[0.0,\"#0d0887\"],[0.1111111111111111,\"#46039f\"],[0.2222222222222222,\"#7201a8\"],[0.3333333333333333,\"#9c179e\"],[0.4444444444444444,\"#bd3786\"],[0.5555555555555556,\"#d8576b\"],[0.6666666666666666,\"#ed7953\"],[0.7777777777777778,\"#fb9f3a\"],[0.8888888888888888,\"#fdca26\"],[1.0,\"#f0f921\"]],\"diverging\":[[0,\"#8e0152\"],[0.1,\"#c51b7d\"],[0.2,\"#de77ae\"],[0.3,\"#f1b6da\"],[0.4,\"#fde0ef\"],[0.5,\"#f7f7f7\"],[0.6,\"#e6f5d0\"],[0.7,\"#b8e186\"],[0.8,\"#7fbc41\"],[0.9,\"#4d9221\"],[1,\"#276419\"]]},\"xaxis\":{\"gridcolor\":\"white\",\"linecolor\":\"white\",\"ticks\":\"\",\"title\":{\"standoff\":15},\"zerolinecolor\":\"white\",\"automargin\":true,\"zerolinewidth\":2},\"yaxis\":{\"gridcolor\":\"white\",\"linecolor\":\"white\",\"ticks\":\"\",\"title\":{\"standoff\":15},\"zerolinecolor\":\"white\",\"automargin\":true,\"zerolinewidth\":2},\"scene\":{\"xaxis\":{\"backgroundcolor\":\"#E5ECF6\",\"gridcolor\":\"white\",\"linecolor\":\"white\",\"showbackground\":true,\"ticks\":\"\",\"zerolinecolor\":\"white\",\"gridwidth\":2},\"yaxis\":{\"backgroundcolor\":\"#E5ECF6\",\"gridcolor\":\"white\",\"linecolor\":\"white\",\"showbackground\":true,\"ticks\":\"\",\"zerolinecolor\":\"white\",\"gridwidth\":2},\"zaxis\":{\"backgroundcolor\":\"#E5ECF6\",\"gridcolor\":\"white\",\"linecolor\":\"white\",\"showbackground\":true,\"ticks\":\"\",\"zerolinecolor\":\"white\",\"gridwidth\":2}},\"shapedefaults\":{\"line\":{\"color\":\"#2a3f5f\"}},\"annotationdefaults\":{\"arrowcolor\":\"#2a3f5f\",\"arrowhead\":0,\"arrowwidth\":1},\"geo\":{\"bgcolor\":\"white\",\"landcolor\":\"#E5ECF6\",\"subunitcolor\":\"white\",\"showland\":true,\"showlakes\":true,\"lakecolor\":\"white\"},\"title\":{\"x\":0.05},\"mapbox\":{\"style\":\"light\"}}},\"xaxis\":{\"anchor\":\"y\",\"domain\":[0.0,1.0],\"title\":{\"text\":\"company\"}},\"yaxis\":{\"anchor\":\"x\",\"domain\":[0.0,1.0],\"title\":{\"text\":\"average_rating\"}},\"legend\":{\"tracegroupgap\":0},\"title\":{\"text\":\"Top 10 Companies by Average Ratings and Reviews\",\"y\":0.9,\"x\":0.5,\"xanchor\":\"center\",\"yanchor\":\"top\"},\"barmode\":\"relative\",\"updatemenus\":[{\"bgcolor\":\"rgba(255, 255, 255, 0.8)\",\"bordercolor\":\"black\",\"borderwidth\":1,\"buttons\":[{\"args\":[{\"x\":[[]],\"y\":[[]],\"hover_data\":{\"total_reviews\":true}}],\"label\":\"0-2 Stars\",\"method\":\"restyle\"},{\"args\":[{\"x\":[[\"Bahwan Cybertek\",\"Calsoft\",\"Wooden Street\",\"Cameo Corporate Services\",\"Chetu\",\"Concord\",\"Zycus Infotech\",\"Bankbazaar\",\"Codemantra\",\"Aforeserve\"]],\"y\":[[3.5,3.5,3.5,3.5,3.5,3.5,3.5,3.5,3.5,3.5]],\"hover_data\":{\"total_reviews\":true}}],\"label\":\"2-3.5 Stars\",\"method\":\"restyle\"},{\"args\":[{\"x\":[[\"Saponlineclasses\",\"Uplers\",\"Jaguar Security Services\",\"Physicswallah\",\"Rainbow Hospitals\",\"Ford\",\"Pepsi Foods\",\"Redbus\",\"Datatrained\",\"The Gateway Hotel\"]],\"y\":[[4.5,4.5,4.5,4.5,4.5,4.5,4.5,4.5,4.5,4.5]],\"hover_data\":{\"total_reviews\":true}}],\"label\":\"3.5-4.5 Stars\",\"method\":\"restyle\"},{\"args\":[{\"x\":[[\"Jobshop Consulting\",\"Aurigo Software Technologies\",\"Wintax Solution\",\"Fingent\",\"Kalyan Jewellers\",\"Educohire\",\"Duck Creek\",\"Zimetrics Technologies\",\"Qentelli\",\"Achievers Spot\"]],\"y\":[[4.9957805907173,4.9,4.8,4.8,4.8,4.714285714285714,4.7,4.7,4.7,4.7]],\"hover_data\":{\"total_reviews\":true}}],\"label\":\"\\u003e 4.5 Stars\",\"method\":\"restyle\"},{\"args\":[{\"x\":[[\"Jobshop Consulting\",\"Aurigo Software Technologies\",\"Wintax Solution\",\"Fingent\",\"Kalyan Jewellers\",\"Educohire\",\"Duck Creek\",\"Zimetrics Technologies\",\"Qentelli\",\"Achievers Spot\"]],\"y\":[[4.9957805907173,4.9,4.8,4.8,4.8,4.714285714285714,4.7,4.7,4.7,4.7]],\"hover_data\":{\"total_reviews\":true}}],\"label\":\"All Ratings\",\"method\":\"restyle\"}],\"direction\":\"down\",\"pad\":{\"r\":10,\"t\":10},\"showactive\":true,\"x\":1,\"xanchor\":\"right\",\"y\":1.15,\"yanchor\":\"top\"}]},                        {\"responsive\": true}                    ).then(function(){\n",
              "                            \n",
              "var gd = document.getElementById('31f3b326-0ced-4cb1-8431-ed0f12e00cd1');\n",
              "var x = new MutationObserver(function (mutations, observer) {{\n",
              "        var display = window.getComputedStyle(gd).display;\n",
              "        if (!display || display === 'none') {{\n",
              "            console.log([gd, 'removed!']);\n",
              "            Plotly.purge(gd);\n",
              "            observer.disconnect();\n",
              "        }}\n",
              "}});\n",
              "\n",
              "// Listen for the removal of the full notebook cells\n",
              "var notebookContainer = gd.closest('#notebook-container');\n",
              "if (notebookContainer) {{\n",
              "    x.observe(notebookContainer, {childList: true});\n",
              "}}\n",
              "\n",
              "// Listen for the clearing of the current output cell\n",
              "var outputEl = gd.closest('.output');\n",
              "if (outputEl) {{\n",
              "    x.observe(outputEl, {childList: true});\n",
              "}}\n",
              "\n",
              "                        })                };                            </script>        </div>\n",
              "</body>\n",
              "</html>"
            ]
          },
          "metadata": {}
        }
      ],
      "source": [
        "import pandas as pd\n",
        "import plotly.express as px\n",
        "file_url = \"https://raw.githubusercontent.com/satyam26en/JOB/main/Clean_Job_File.csv\"\n",
        "df = pd.read_csv(file_url)\n",
        "average_ratings_reviews = df.groupby('company').agg({'rating': 'mean', 'reviews': 'sum'}).reset_index()\n",
        "average_ratings_reviews.columns = ['company', 'average_rating', 'total_reviews']\n",
        "min_reviews = 1000\n",
        "filtered_ratings_reviews = average_ratings_reviews[average_ratings_reviews['total_reviews'] >= min_reviews]\n",
        "filtered_ratings_reviews = filtered_ratings_reviews.sort_values(by='average_rating', ascending=False)\n",
        "top_10_ratings = {\n",
        "    \"0-2 Stars\": filtered_ratings_reviews.query(\"average_rating <= 2\").head(10),\n",
        "    \"2-3.5 Stars\": filtered_ratings_reviews.query(\"average_rating > 2 and average_rating <= 3.5\").head(10),\n",
        "    \"3.5-4.5 Stars\": filtered_ratings_reviews.query(\"average_rating > 3.5 and average_rating <= 4.5\").head(10),\n",
        "    \"> 4.5 Stars\": filtered_ratings_reviews.query(\"average_rating > 4.5\").head(10),\n",
        "    \"All Ratings\": filtered_ratings_reviews.head(10)\n",
        "}\n",
        "fig = px.bar(top_10_ratings[\"All Ratings\"], x='company', y='average_rating', title='Top 10 Companies by Average Ratings and Reviews',\n",
        "             hover_data={'total_reviews': True})\n",
        "filters = [\n",
        "    dict(\n",
        "        args=[{\"x\": [top_10_ratings[\"0-2 Stars\"]['company']], \"y\": [top_10_ratings[\"0-2 Stars\"]['average_rating']], \"hover_data\": {'total_reviews': True}}],\n",
        "        label=\"0-2 Stars\",\n",
        "        method=\"restyle\"\n",
        "    ),\n",
        "    dict(\n",
        "        args=[{\"x\": [top_10_ratings[\"2-3.5 Stars\"]['company']], \"y\": [top_10_ratings[\"2-3.5 Stars\"]['average_rating']], \"hover_data\": {'total_reviews': True}}],\n",
        "        label=\"2-3.5 Stars\",\n",
        "        method=\"restyle\"\n",
        "    ),\n",
        "    dict(\n",
        "        args=[{\"x\": [top_10_ratings[\"3.5-4.5 Stars\"]['company']], \"y\": [top_10_ratings[\"3.5-4.5 Stars\"]['average_rating']], \"hover_data\": {'total_reviews': True}}],\n",
        "        label=\"3.5-4.5 Stars\",\n",
        "        method=\"restyle\"\n",
        "    ),\n",
        "    dict(\n",
        "        args=[{\"x\": [top_10_ratings[\"> 4.5 Stars\"]['company']], \"y\": [top_10_ratings[\"> 4.5 Stars\"]['average_rating']], \"hover_data\": {'total_reviews': True}}],\n",
        "        label=\"> 4.5 Stars\",\n",
        "        method=\"restyle\"\n",
        "    ),\n",
        "    dict(\n",
        "        args=[{\"x\": [top_10_ratings[\"All Ratings\"]['company']], \"y\": [top_10_ratings[\"All Ratings\"]['average_rating']], \"hover_data\": {'total_reviews': True}}],\n",
        "        label=\"All Ratings\",\n",
        "        method=\"restyle\"\n",
        "    )\n",
        "]\n",
        "fig.update_layout(\n",
        "    title={\n",
        "        'text': 'Top 10 Companies by Average Ratings and Reviews',\n",
        "        'y':0.9,\n",
        "        'x':0.5,\n",
        "        'xanchor': 'center',\n",
        "        'yanchor': 'top'\n",
        "    },\n",
        "    updatemenus=[\n",
        "        dict(\n",
        "            buttons=filters,\n",
        "            direction=\"down\",\n",
        "            pad={\"r\": 10, \"t\": 10},\n",
        "            showactive=True,\n",
        "            x=1,\n",
        "            xanchor=\"right\",\n",
        "            y=1.15,\n",
        "            yanchor=\"top\",\n",
        "            bgcolor='rgba(255, 255, 255, 0.8)',\n",
        "            bordercolor='black',\n",
        "            borderwidth=1\n",
        "        ),\n",
        "    ]\n",
        ")\n",
        "fig.show()\n"
      ]
    }
  ]
}